{
  "cells": [
    {
      "cell_type": "code",
      "execution_count": 1,
      "metadata": {
        "colab": {
          "base_uri": "https://localhost:8080/"
        },
        "id": "2vH0oW34NfzW",
        "outputId": "53dfe4b9-8b6a-44e8-dc93-07614eed7f61"
      },
      "outputs": [
        {
          "output_type": "stream",
          "name": "stdout",
          "text": [
            "Mounted at /content/gdrive\n"
          ]
        }
      ],
      "source": [
        "from google.colab import drive\n",
        "drive.mount('/content/gdrive')\n"
      ]
    },
    {
      "cell_type": "code",
      "execution_count": 2,
      "metadata": {
        "colab": {
          "base_uri": "https://localhost:8080/"
        },
        "id": "Jjt5Ke_UN0d4",
        "outputId": "17013a80-ffbb-4adf-c5cc-dbe525cf3b5b"
      },
      "outputs": [
        {
          "output_type": "stream",
          "name": "stdout",
          "text": [
            "Collecting flwr\n",
            "  Downloading flwr-1.10.0-py3-none-any.whl.metadata (15 kB)\n",
            "Requirement already satisfied: scikit-learn in /usr/local/lib/python3.10/dist-packages (1.3.2)\n",
            "Requirement already satisfied: pandas in /usr/local/lib/python3.10/dist-packages (2.1.4)\n",
            "Requirement already satisfied: cryptography<43.0.0,>=42.0.4 in /usr/local/lib/python3.10/dist-packages (from flwr) (42.0.8)\n",
            "Requirement already satisfied: grpcio!=1.64.2,!=1.65.1,<2.0.0,>=1.60.0 in /usr/local/lib/python3.10/dist-packages (from flwr) (1.64.1)\n",
            "Collecting iterators<0.0.3,>=0.0.2 (from flwr)\n",
            "  Downloading iterators-0.0.2-py3-none-any.whl.metadata (2.5 kB)\n",
            "Requirement already satisfied: numpy<2.0.0,>=1.21.0 in /usr/local/lib/python3.10/dist-packages (from flwr) (1.26.4)\n",
            "Collecting pathspec<0.13.0,>=0.12.1 (from flwr)\n",
            "  Downloading pathspec-0.12.1-py3-none-any.whl.metadata (21 kB)\n",
            "Collecting protobuf<5.0.0,>=4.25.2 (from flwr)\n",
            "  Downloading protobuf-4.25.4-cp37-abi3-manylinux2014_x86_64.whl.metadata (541 bytes)\n",
            "Collecting pycryptodome<4.0.0,>=3.18.0 (from flwr)\n",
            "  Downloading pycryptodome-3.20.0-cp35-abi3-manylinux_2_17_x86_64.manylinux2014_x86_64.whl.metadata (3.4 kB)\n",
            "Requirement already satisfied: tomli<3.0.0,>=2.0.1 in /usr/local/lib/python3.10/dist-packages (from flwr) (2.0.1)\n",
            "Collecting tomli-w<2.0.0,>=1.0.0 (from flwr)\n",
            "  Downloading tomli_w-1.0.0-py3-none-any.whl.metadata (4.9 kB)\n",
            "Collecting typer<0.10.0,>=0.9.0 (from typer[all]<0.10.0,>=0.9.0->flwr)\n",
            "  Downloading typer-0.9.4-py3-none-any.whl.metadata (14 kB)\n",
            "Requirement already satisfied: scipy>=1.5.0 in /usr/local/lib/python3.10/dist-packages (from scikit-learn) (1.13.1)\n",
            "Requirement already satisfied: joblib>=1.1.1 in /usr/local/lib/python3.10/dist-packages (from scikit-learn) (1.4.2)\n",
            "Requirement already satisfied: threadpoolctl>=2.0.0 in /usr/local/lib/python3.10/dist-packages (from scikit-learn) (3.5.0)\n",
            "Requirement already satisfied: python-dateutil>=2.8.2 in /usr/local/lib/python3.10/dist-packages (from pandas) (2.8.2)\n",
            "Requirement already satisfied: pytz>=2020.1 in /usr/local/lib/python3.10/dist-packages (from pandas) (2024.1)\n",
            "Requirement already satisfied: tzdata>=2022.1 in /usr/local/lib/python3.10/dist-packages (from pandas) (2024.1)\n",
            "Requirement already satisfied: cffi>=1.12 in /usr/local/lib/python3.10/dist-packages (from cryptography<43.0.0,>=42.0.4->flwr) (1.17.0)\n",
            "Requirement already satisfied: six>=1.5 in /usr/local/lib/python3.10/dist-packages (from python-dateutil>=2.8.2->pandas) (1.16.0)\n",
            "Requirement already satisfied: click<9.0.0,>=7.1.1 in /usr/local/lib/python3.10/dist-packages (from typer<0.10.0,>=0.9.0->typer[all]<0.10.0,>=0.9.0->flwr) (8.1.7)\n",
            "Requirement already satisfied: typing-extensions>=3.7.4.3 in /usr/local/lib/python3.10/dist-packages (from typer<0.10.0,>=0.9.0->typer[all]<0.10.0,>=0.9.0->flwr) (4.12.2)\n",
            "Collecting colorama<0.5.0,>=0.4.3 (from typer[all]<0.10.0,>=0.9.0->flwr)\n",
            "  Downloading colorama-0.4.6-py2.py3-none-any.whl.metadata (17 kB)\n",
            "Requirement already satisfied: shellingham<2.0.0,>=1.3.0 in /usr/local/lib/python3.10/dist-packages (from typer[all]<0.10.0,>=0.9.0->flwr) (1.5.4)\n",
            "Requirement already satisfied: rich<14.0.0,>=10.11.0 in /usr/local/lib/python3.10/dist-packages (from typer[all]<0.10.0,>=0.9.0->flwr) (13.7.1)\n",
            "Requirement already satisfied: pycparser in /usr/local/lib/python3.10/dist-packages (from cffi>=1.12->cryptography<43.0.0,>=42.0.4->flwr) (2.22)\n",
            "Requirement already satisfied: markdown-it-py>=2.2.0 in /usr/local/lib/python3.10/dist-packages (from rich<14.0.0,>=10.11.0->typer[all]<0.10.0,>=0.9.0->flwr) (3.0.0)\n",
            "Requirement already satisfied: pygments<3.0.0,>=2.13.0 in /usr/local/lib/python3.10/dist-packages (from rich<14.0.0,>=10.11.0->typer[all]<0.10.0,>=0.9.0->flwr) (2.16.1)\n",
            "Requirement already satisfied: mdurl~=0.1 in /usr/local/lib/python3.10/dist-packages (from markdown-it-py>=2.2.0->rich<14.0.0,>=10.11.0->typer[all]<0.10.0,>=0.9.0->flwr) (0.1.2)\n",
            "Downloading flwr-1.10.0-py3-none-any.whl (421 kB)\n",
            "\u001b[2K   \u001b[90m━━━━━━━━━━━━━━━━━━━━━━━━━━━━━━━━━━━━━━━━\u001b[0m \u001b[32m421.5/421.5 kB\u001b[0m \u001b[31m29.9 MB/s\u001b[0m eta \u001b[36m0:00:00\u001b[0m\n",
            "\u001b[?25hDownloading iterators-0.0.2-py3-none-any.whl (3.9 kB)\n",
            "Downloading pathspec-0.12.1-py3-none-any.whl (31 kB)\n",
            "Downloading protobuf-4.25.4-cp37-abi3-manylinux2014_x86_64.whl (294 kB)\n",
            "\u001b[2K   \u001b[90m━━━━━━━━━━━━━━━━━━━━━━━━━━━━━━━━━━━━━━━━\u001b[0m \u001b[32m294.6/294.6 kB\u001b[0m \u001b[31m31.5 MB/s\u001b[0m eta \u001b[36m0:00:00\u001b[0m\n",
            "\u001b[?25hDownloading pycryptodome-3.20.0-cp35-abi3-manylinux_2_17_x86_64.manylinux2014_x86_64.whl (2.1 MB)\n",
            "\u001b[2K   \u001b[90m━━━━━━━━━━━━━━━━━━━━━━━━━━━━━━━━━━━━━━━━\u001b[0m \u001b[32m2.1/2.1 MB\u001b[0m \u001b[31m66.9 MB/s\u001b[0m eta \u001b[36m0:00:00\u001b[0m\n",
            "\u001b[?25hDownloading tomli_w-1.0.0-py3-none-any.whl (6.0 kB)\n",
            "Downloading typer-0.9.4-py3-none-any.whl (45 kB)\n",
            "\u001b[2K   \u001b[90m━━━━━━━━━━━━━━━━━━━━━━━━━━━━━━━━━━━━━━━━\u001b[0m \u001b[32m46.0/46.0 kB\u001b[0m \u001b[31m4.9 MB/s\u001b[0m eta \u001b[36m0:00:00\u001b[0m\n",
            "\u001b[?25hDownloading colorama-0.4.6-py2.py3-none-any.whl (25 kB)\n",
            "Installing collected packages: typer, tomli-w, pycryptodome, protobuf, pathspec, iterators, colorama, flwr\n",
            "  Attempting uninstall: typer\n",
            "    Found existing installation: typer 0.12.3\n",
            "    Uninstalling typer-0.12.3:\n",
            "      Successfully uninstalled typer-0.12.3\n",
            "  Attempting uninstall: protobuf\n",
            "    Found existing installation: protobuf 3.20.3\n",
            "    Uninstalling protobuf-3.20.3:\n",
            "      Successfully uninstalled protobuf-3.20.3\n",
            "\u001b[31mERROR: pip's dependency resolver does not currently take into account all the packages that are installed. This behaviour is the source of the following dependency conflicts.\n",
            "tensorflow-metadata 1.15.0 requires protobuf<4.21,>=3.20.3; python_version < \"3.11\", but you have protobuf 4.25.4 which is incompatible.\u001b[0m\u001b[31m\n",
            "\u001b[0mSuccessfully installed colorama-0.4.6 flwr-1.10.0 iterators-0.0.2 pathspec-0.12.1 protobuf-4.25.4 pycryptodome-3.20.0 tomli-w-1.0.0 typer-0.9.4\n"
          ]
        }
      ],
      "source": [
        "!pip install flwr scikit-learn pandas"
      ]
    },
    {
      "cell_type": "code",
      "execution_count": null,
      "metadata": {
        "id": "iXBEzi6HN8vd"
      },
      "outputs": [],
      "source": [
        "!mkdir -p /content/gdrive/MyDrive/federated_learning/"
      ]
    },
    {
      "cell_type": "code",
      "execution_count": 3,
      "metadata": {
        "colab": {
          "base_uri": "https://localhost:8080/"
        },
        "id": "oGehgM2f8pmD",
        "outputId": "7dadbc67-021c-4d62-9039-f52222036923"
      },
      "outputs": [
        {
          "output_type": "stream",
          "name": "stdout",
          "text": [
            "Requirement already satisfied: flwr[simulation] in /usr/local/lib/python3.10/dist-packages (1.10.0)\n",
            "Requirement already satisfied: cryptography<43.0.0,>=42.0.4 in /usr/local/lib/python3.10/dist-packages (from flwr[simulation]) (42.0.8)\n",
            "Requirement already satisfied: grpcio!=1.64.2,!=1.65.1,<2.0.0,>=1.60.0 in /usr/local/lib/python3.10/dist-packages (from flwr[simulation]) (1.64.1)\n",
            "Requirement already satisfied: iterators<0.0.3,>=0.0.2 in /usr/local/lib/python3.10/dist-packages (from flwr[simulation]) (0.0.2)\n",
            "Requirement already satisfied: numpy<2.0.0,>=1.21.0 in /usr/local/lib/python3.10/dist-packages (from flwr[simulation]) (1.26.4)\n",
            "Requirement already satisfied: pathspec<0.13.0,>=0.12.1 in /usr/local/lib/python3.10/dist-packages (from flwr[simulation]) (0.12.1)\n",
            "Requirement already satisfied: protobuf<5.0.0,>=4.25.2 in /usr/local/lib/python3.10/dist-packages (from flwr[simulation]) (4.25.4)\n",
            "Requirement already satisfied: pycryptodome<4.0.0,>=3.18.0 in /usr/local/lib/python3.10/dist-packages (from flwr[simulation]) (3.20.0)\n",
            "Requirement already satisfied: tomli<3.0.0,>=2.0.1 in /usr/local/lib/python3.10/dist-packages (from flwr[simulation]) (2.0.1)\n",
            "Requirement already satisfied: tomli-w<2.0.0,>=1.0.0 in /usr/local/lib/python3.10/dist-packages (from flwr[simulation]) (1.0.0)\n",
            "Requirement already satisfied: typer<0.10.0,>=0.9.0 in /usr/local/lib/python3.10/dist-packages (from typer[all]<0.10.0,>=0.9.0->flwr[simulation]) (0.9.4)\n",
            "Collecting ray==2.10.0 (from flwr[simulation])\n",
            "  Downloading ray-2.10.0-cp310-cp310-manylinux2014_x86_64.whl.metadata (13 kB)\n",
            "Requirement already satisfied: click>=7.0 in /usr/local/lib/python3.10/dist-packages (from ray==2.10.0->flwr[simulation]) (8.1.7)\n",
            "Requirement already satisfied: filelock in /usr/local/lib/python3.10/dist-packages (from ray==2.10.0->flwr[simulation]) (3.15.4)\n",
            "Requirement already satisfied: jsonschema in /usr/local/lib/python3.10/dist-packages (from ray==2.10.0->flwr[simulation]) (4.23.0)\n",
            "Requirement already satisfied: msgpack<2.0.0,>=1.0.0 in /usr/local/lib/python3.10/dist-packages (from ray==2.10.0->flwr[simulation]) (1.0.8)\n",
            "Requirement already satisfied: packaging in /usr/local/lib/python3.10/dist-packages (from ray==2.10.0->flwr[simulation]) (24.1)\n",
            "Requirement already satisfied: pyyaml in /usr/local/lib/python3.10/dist-packages (from ray==2.10.0->flwr[simulation]) (6.0.1)\n",
            "Requirement already satisfied: aiosignal in /usr/local/lib/python3.10/dist-packages (from ray==2.10.0->flwr[simulation]) (1.3.1)\n",
            "Requirement already satisfied: frozenlist in /usr/local/lib/python3.10/dist-packages (from ray==2.10.0->flwr[simulation]) (1.4.1)\n",
            "Requirement already satisfied: requests in /usr/local/lib/python3.10/dist-packages (from ray==2.10.0->flwr[simulation]) (2.32.3)\n",
            "Requirement already satisfied: cffi>=1.12 in /usr/local/lib/python3.10/dist-packages (from cryptography<43.0.0,>=42.0.4->flwr[simulation]) (1.16.0)\n",
            "Requirement already satisfied: typing-extensions>=3.7.4.3 in /usr/local/lib/python3.10/dist-packages (from typer<0.10.0,>=0.9.0->typer[all]<0.10.0,>=0.9.0->flwr[simulation]) (4.12.2)\n",
            "Requirement already satisfied: colorama<0.5.0,>=0.4.3 in /usr/local/lib/python3.10/dist-packages (from typer[all]<0.10.0,>=0.9.0->flwr[simulation]) (0.4.6)\n",
            "Requirement already satisfied: shellingham<2.0.0,>=1.3.0 in /usr/local/lib/python3.10/dist-packages (from typer[all]<0.10.0,>=0.9.0->flwr[simulation]) (1.5.4)\n",
            "Requirement already satisfied: rich<14.0.0,>=10.11.0 in /usr/local/lib/python3.10/dist-packages (from typer[all]<0.10.0,>=0.9.0->flwr[simulation]) (13.7.1)\n",
            "Requirement already satisfied: pycparser in /usr/local/lib/python3.10/dist-packages (from cffi>=1.12->cryptography<43.0.0,>=42.0.4->flwr[simulation]) (2.22)\n",
            "Requirement already satisfied: markdown-it-py>=2.2.0 in /usr/local/lib/python3.10/dist-packages (from rich<14.0.0,>=10.11.0->typer[all]<0.10.0,>=0.9.0->flwr[simulation]) (3.0.0)\n",
            "Requirement already satisfied: pygments<3.0.0,>=2.13.0 in /usr/local/lib/python3.10/dist-packages (from rich<14.0.0,>=10.11.0->typer[all]<0.10.0,>=0.9.0->flwr[simulation]) (2.16.1)\n",
            "Requirement already satisfied: attrs>=22.2.0 in /usr/local/lib/python3.10/dist-packages (from jsonschema->ray==2.10.0->flwr[simulation]) (24.1.0)\n",
            "Requirement already satisfied: jsonschema-specifications>=2023.03.6 in /usr/local/lib/python3.10/dist-packages (from jsonschema->ray==2.10.0->flwr[simulation]) (2023.12.1)\n",
            "Requirement already satisfied: referencing>=0.28.4 in /usr/local/lib/python3.10/dist-packages (from jsonschema->ray==2.10.0->flwr[simulation]) (0.35.1)\n",
            "Requirement already satisfied: rpds-py>=0.7.1 in /usr/local/lib/python3.10/dist-packages (from jsonschema->ray==2.10.0->flwr[simulation]) (0.19.1)\n",
            "Requirement already satisfied: charset-normalizer<4,>=2 in /usr/local/lib/python3.10/dist-packages (from requests->ray==2.10.0->flwr[simulation]) (3.3.2)\n",
            "Requirement already satisfied: idna<4,>=2.5 in /usr/local/lib/python3.10/dist-packages (from requests->ray==2.10.0->flwr[simulation]) (3.7)\n",
            "Requirement already satisfied: urllib3<3,>=1.21.1 in /usr/local/lib/python3.10/dist-packages (from requests->ray==2.10.0->flwr[simulation]) (2.0.7)\n",
            "Requirement already satisfied: certifi>=2017.4.17 in /usr/local/lib/python3.10/dist-packages (from requests->ray==2.10.0->flwr[simulation]) (2024.7.4)\n",
            "Requirement already satisfied: mdurl~=0.1 in /usr/local/lib/python3.10/dist-packages (from markdown-it-py>=2.2.0->rich<14.0.0,>=10.11.0->typer[all]<0.10.0,>=0.9.0->flwr[simulation]) (0.1.2)\n",
            "Downloading ray-2.10.0-cp310-cp310-manylinux2014_x86_64.whl (65.1 MB)\n",
            "\u001b[2K   \u001b[90m━━━━━━━━━━━━━━━━━━━━━━━━━━━━━━━━━━━━━━━━\u001b[0m \u001b[32m65.1/65.1 MB\u001b[0m \u001b[31m35.4 MB/s\u001b[0m eta \u001b[36m0:00:00\u001b[0m\n",
            "\u001b[?25hInstalling collected packages: ray\n",
            "Successfully installed ray-2.10.0\n"
          ]
        }
      ],
      "source": [
        " pip install -U flwr[\"simulation\"]"
      ]
    },
    {
      "cell_type": "code",
      "execution_count": 4,
      "metadata": {
        "id": "ee-jX_zCvfM5"
      },
      "outputs": [],
      "source": [
        "import os\n",
        "os.environ['TF_CPP_MIN_LOG_LEVEL'] = '3'  # Suppress TensorFlow warnings\n",
        "os.environ['RAY_DEDUP_LOGS'] = '0'  # Disable Ray log deduplication\n"
      ]
    },
    {
      "cell_type": "code",
      "execution_count": null,
      "metadata": {
        "colab": {
          "base_uri": "https://localhost:8080/"
        },
        "id": "F75ul9OUX0PK",
        "outputId": "a233c229-67c2-49d1-dd7c-22af2deda0af"
      },
      "outputs": [
        {
          "output_type": "stream",
          "name": "stdout",
          "text": [
            "Requirement already satisfied: flwr in /usr/local/lib/python3.10/dist-packages (1.10.0)\n",
            "Requirement already satisfied: cryptography<43.0.0,>=42.0.4 in /usr/local/lib/python3.10/dist-packages (from flwr) (42.0.8)\n",
            "Requirement already satisfied: grpcio!=1.64.2,!=1.65.1,<2.0.0,>=1.60.0 in /usr/local/lib/python3.10/dist-packages (from flwr) (1.64.1)\n",
            "Requirement already satisfied: iterators<0.0.3,>=0.0.2 in /usr/local/lib/python3.10/dist-packages (from flwr) (0.0.2)\n",
            "Requirement already satisfied: numpy<2.0.0,>=1.21.0 in /usr/local/lib/python3.10/dist-packages (from flwr) (1.25.2)\n",
            "Requirement already satisfied: pathspec<0.13.0,>=0.12.1 in /usr/local/lib/python3.10/dist-packages (from flwr) (0.12.1)\n",
            "Requirement already satisfied: protobuf<5.0.0,>=4.25.2 in /usr/local/lib/python3.10/dist-packages (from flwr) (4.25.4)\n",
            "Requirement already satisfied: pycryptodome<4.0.0,>=3.18.0 in /usr/local/lib/python3.10/dist-packages (from flwr) (3.20.0)\n",
            "Requirement already satisfied: tomli<3.0.0,>=2.0.1 in /usr/local/lib/python3.10/dist-packages (from flwr) (2.0.1)\n",
            "Requirement already satisfied: tomli-w<2.0.0,>=1.0.0 in /usr/local/lib/python3.10/dist-packages (from flwr) (1.0.0)\n",
            "Requirement already satisfied: typer<0.10.0,>=0.9.0 in /usr/local/lib/python3.10/dist-packages (from typer[all]<0.10.0,>=0.9.0->flwr) (0.9.4)\n",
            "Requirement already satisfied: cffi>=1.12 in /usr/local/lib/python3.10/dist-packages (from cryptography<43.0.0,>=42.0.4->flwr) (1.16.0)\n",
            "Requirement already satisfied: click<9.0.0,>=7.1.1 in /usr/local/lib/python3.10/dist-packages (from typer<0.10.0,>=0.9.0->typer[all]<0.10.0,>=0.9.0->flwr) (8.1.7)\n",
            "Requirement already satisfied: typing-extensions>=3.7.4.3 in /usr/local/lib/python3.10/dist-packages (from typer<0.10.0,>=0.9.0->typer[all]<0.10.0,>=0.9.0->flwr) (4.12.2)\n",
            "Requirement already satisfied: colorama<0.5.0,>=0.4.3 in /usr/local/lib/python3.10/dist-packages (from typer[all]<0.10.0,>=0.9.0->flwr) (0.4.6)\n",
            "Requirement already satisfied: shellingham<2.0.0,>=1.3.0 in /usr/local/lib/python3.10/dist-packages (from typer[all]<0.10.0,>=0.9.0->flwr) (1.5.4)\n",
            "Requirement already satisfied: rich<14.0.0,>=10.11.0 in /usr/local/lib/python3.10/dist-packages (from typer[all]<0.10.0,>=0.9.0->flwr) (13.7.1)\n",
            "Requirement already satisfied: pycparser in /usr/local/lib/python3.10/dist-packages (from cffi>=1.12->cryptography<43.0.0,>=42.0.4->flwr) (2.22)\n",
            "Requirement already satisfied: markdown-it-py>=2.2.0 in /usr/local/lib/python3.10/dist-packages (from rich<14.0.0,>=10.11.0->typer[all]<0.10.0,>=0.9.0->flwr) (3.0.0)\n",
            "Requirement already satisfied: pygments<3.0.0,>=2.13.0 in /usr/local/lib/python3.10/dist-packages (from rich<14.0.0,>=10.11.0->typer[all]<0.10.0,>=0.9.0->flwr) (2.16.1)\n",
            "Requirement already satisfied: mdurl~=0.1 in /usr/local/lib/python3.10/dist-packages (from markdown-it-py>=2.2.0->rich<14.0.0,>=10.11.0->typer[all]<0.10.0,>=0.9.0->flwr) (0.1.2)\n"
          ]
        }
      ],
      "source": [
        "!pip install --upgrade flwr"
      ]
    },
    {
      "cell_type": "code",
      "execution_count": 1,
      "metadata": {
        "id": "bLfRRJ5ROGtK"
      },
      "outputs": [],
      "source": [
        "import pandas as pd\n",
        "from sklearn.preprocessing import MinMaxScaler, StandardScaler\n",
        "from sklearn.model_selection import StratifiedShuffleSplit\n",
        "from sklearn.linear_model import LogisticRegression\n",
        "from sklearn.svm import LinearSVC\n",
        "from sklearn.ensemble import RandomForestClassifier\n",
        "from sklearn.ensemble import StackingClassifier\n",
        "from imblearn.over_sampling import SMOTE\n",
        "from imblearn.under_sampling import RandomUnderSampler\n",
        "from imblearn.pipeline import Pipeline\n",
        "\n",
        "\n",
        "def load_data(paths):\n",
        "  data = pd.concat([pd.read_csv(path) for path in paths])\n",
        "  return data\n",
        "\n",
        "def split_features_labels(data):\n",
        "  print(\"split_features\")\n",
        "  X = data.drop(columns=['type'])\n",
        "  y = data['type']\n",
        "  return X,y\n",
        "\n",
        "def balance_data(X_train, y_train):\n",
        "    over = SMOTE(sampling_strategy=0.8, random_state=42)\n",
        "    X_res, y_res = over.fit_resample(X_train, y_train)\n",
        "    return X_res, y_res\n",
        "\n",
        "def sampling(X, y):\n",
        "    print(\"Sampling data...\")\n",
        "    sss = StratifiedShuffleSplit(n_splits=1, test_size=0.2, random_state=42)\n",
        "    train_index, test_index = next(sss.split(X, y))\n",
        "    scaler = MinMaxScaler()\n",
        "    X_train, X_test = X.iloc[train_index], X.iloc[test_index]\n",
        "    y_train, y_test = y.iloc[train_index], y.iloc[test_index]\n",
        "    X_train_balanced, y_train_balanced = balance_data(X_train, y_train)\n",
        "    X_train_scaled = scaler.fit_transform(X_train_balanced)\n",
        "    X_test_scaled = scaler.transform(X_test)\n",
        "    #print(y_train_balanced.value_counts())\n",
        "    return X_train_scaled, X_test_scaled, y_train_balanced, y_test\n",
        "\n",
        "\n",
        "def startified_sampling(X, y):\n",
        "    print(\"Sampling data...\")\n",
        "    sss = StratifiedShuffleSplit(n_splits=1, test_size=0.3, random_state=42)\n",
        "    train_index, test_index = next(sss.split(X, y))\n",
        "    X_train, X_test = X.iloc[train_index], X.iloc[test_index]\n",
        "    y_train, y_test = y.iloc[train_index], y.iloc[test_index]\n",
        "    return X_train, X_test, y_train, y_test\n",
        "\n",
        "\n",
        "def create_model():\n",
        "\n",
        "    #best_svc_params, best_lr_params, best_rf_params = hyperparameter_tuning(X_train, y_train)\n",
        "\n",
        "    estimators = [('SVM model', LinearSVC(random_state=42, max_iter=10000, class_weight='balanced', dual='auto')),\n",
        "                  ('logistic regression', LogisticRegression(random_state=42, class_weight='balanced', max_iter=1000))]\n",
        "\n",
        "    stacking = StackingClassifier(estimators=estimators, final_estimator=RandomForestClassifier())\n",
        "    print(\"model created\")\n",
        "\n",
        "    return stacking\n",
        "\n",
        "def get_model_params(model):\n",
        "  params = []\n",
        "    # Extract parameters from base models\n",
        "  for estimator in model.estimators_:\n",
        "        if hasattr(estimator, 'coef_'):\n",
        "            params.append(estimator.coef_.tolist())\n",
        "            params.append(estimator.intercept_.tolist())\n",
        "        elif hasattr(estimator, 'feature_importances_'):\n",
        "            params.append(estimator.feature_importances_.tolist())\n",
        "\n",
        "\n",
        "    # Extract parameters from the meta-model\n",
        "  meta_model = model.final_estimator_\n",
        "  if hasattr(meta_model, 'feature_importances_'):\n",
        "        params.append(meta_model.feature_importances_.tolist())\n",
        "  \"\"\"if hasattr(meta_model, 'min_samples_split'):\n",
        "        params.append([meta_model.min_samples_split])\"\"\"\n",
        "  if hasattr(meta_model, 'n_estimators'):\n",
        "        params.append([meta_model.n_estimators])\n",
        "\n",
        "  #print(params)\n",
        "\n",
        "  return params\n",
        "\n",
        "def set_model_params(model, parameters):\n",
        "  i = 0\n",
        "    # Set parameters for base models\n",
        "  for estimator in model.estimators_:\n",
        "        if hasattr(estimator, 'coef_'):\n",
        "            estimator.coef_ = np.array(parameters[i])\n",
        "            estimator.intercept_ = np.array(parameters[i + 1])\n",
        "            i += 2\n",
        "        elif hasattr(estimator, 'feature_importances_'):\n",
        "            estimator.feature_importances_ = np.array(parameters[i])\n",
        "            i += 1\n",
        "\n",
        "    # Set parameters for themeta-model\n",
        "  meta_model = model.final_estimator\n",
        "  if hasattr(meta_model, 'feature_importances_'):\n",
        "        meta_model.feature_importances_ = np.array(parameters[i])\n",
        "        i += 1\n",
        "  \"\"\"if hasattr(meta_model, 'min_samples_split'):\n",
        "        meta_model.min_samples_split = int(parameters[i])\n",
        "        i += 1\"\"\"\n",
        "  if hasattr(meta_model, 'n_estimators_'):\n",
        "        meta_model.n_estimators = int(parameters[i])\n",
        "        i += 1\n",
        "\n",
        "  #print(parameters)\n",
        "\n"
      ]
    },
    {
      "cell_type": "code",
      "source": [
        "from sklearn.model_selection import train_test_split\n",
        "import pandas as pd\n",
        "import numpy as np\n",
        "\n",
        "def load_data(paths):\n",
        "  data = pd.concat([pd.read_csv(path) for path in paths])\n",
        "  return data\n",
        "\n",
        "data = load_data([\n",
        "        '/content/gdrive/MyDrive/N-BaIoT/csv_files/1_cleaned_dataset.csv',\n",
        "        '/content/gdrive/MyDrive/N-BaIoT/csv_files/2_cleaned_dataset.csv',\n",
        "        '/content/gdrive/MyDrive/N-BaIoT/csv_files/3_cleaned_dataset.csv',\n",
        "        '/content/gdrive/MyDrive/N-BaIoT/csv_files/4_cleaned_dataset.csv',\n",
        "        '/content/gdrive/MyDrive/N-BaIoT/csv_files/5_cleaned_dataset.csv',\n",
        "        '/content/gdrive/MyDrive/N-BaIoT/csv_files/6_cleaned_dataset.csv',\n",
        "        '/content/gdrive/MyDrive/N-BaIoT/csv_files/7_cleaned_dataset.csv',\n",
        "        '/content/gdrive/MyDrive/N-BaIoT/csv_files/8_cleaned_dataset.csv',\n",
        "        '/content/gdrive/MyDrive/N-BaIoT/csv_files/9_cleaned_dataset.csv'\n",
        "    ])\n",
        "\n",
        "X , y = split_features_labels(data)\n",
        "X_client, X_server, y_client, y_server = sampling(X, y)\n",
        "print(X_client.shape)\n",
        "print(X_server.shape)\n",
        "print(y_client.shape)\n",
        "print(y_server.shape)\n",
        "\n",
        "X_server = pd.DataFrame(X_server)\n",
        "y_server = pd.Series(y_server)\n",
        "\n",
        "\n",
        "X_server_train, X_server_test, y_server_train, y_server_test = startified_sampling(X_server, y_server)\n",
        "print(X_server_train.shape)\n",
        "print(X_server_test.shape)\n",
        "print(y_server_train.shape)\n",
        "print(y_server_test.shape)\n",
        "print(\"server co-ordinates\")\n",
        "print(X_server_train.shape)\n",
        "print(X_server_test.shape)\n",
        "print(y_server_train.shape)\n",
        "print(y_server_test.shape)\n",
        "\n",
        "print(X_server_train, X_server_test, y_server_train, y_server_test)\n",
        "\n",
        "client_data = np.array_split(X_client, 6)\n",
        "client_labels = np.array_split(y_client, 6)\n",
        "\n",
        "client_train_test_data = []\n",
        "\n",
        "for data, labels in zip(client_data, client_labels):\n",
        "    data = pd.DataFrame(data)\n",
        "    labels = pd.Series(labels)\n",
        "    X_train, X_test, y_train, y_test = startified_sampling(data, labels)\n",
        "    print(X_train.shape)\n",
        "    print(X_test.shape)\n",
        "    print(y_train.shape)\n",
        "    print(y_test.shape)\n",
        "    print(\"client co-ordinates\")\n",
        "    print(X_train, X_test, y_train, y_test)\n",
        "    client_train_test_data.append((X_train, X_test, y_train, y_test))\n",
        "    print(X_train.shape, X_test.shape, y_train.shape, y_test.shape)\n",
        "\n",
        "\n",
        "\n",
        "X_clients_test = np.concatenate([X_test for _, X_test, _, _ in client_train_test_data])\n",
        "y_clients_test = np.concatenate([y_test for _, _, _, y_test in client_train_test_data])\n",
        "\n",
        "print(\"clients testing values\")\n",
        "print(X_clients_test.shape)\n",
        "print(y_clients_test.shape)\n",
        "\n",
        "\n",
        "\n"
      ],
      "metadata": {
        "colab": {
          "base_uri": "https://localhost:8080/"
        },
        "outputId": "54839182-8920-4ef2-aedd-b513cb202b28",
        "id": "TPg0ZCAsWvlS"
      },
      "execution_count": 6,
      "outputs": [
        {
          "output_type": "stream",
          "name": "stdout",
          "text": [
            "split_features\n",
            "Sampling data...\n",
            "(980727, 115)\n",
            "(980728, 115)\n",
            "(980727,)\n",
            "(980728,)\n",
            "(686509, 115)\n",
            "(294219, 115)\n",
            "(686509,)\n",
            "(294219,)\n",
            "server co-ordinates\n",
            "(686509, 115)\n",
            "(294219, 115)\n",
            "(686509,)\n",
            "(294219,)\n",
            "             0             1             2         3             4    \\\n",
            "436414  0.150436  3.921359e-05  2.072080e-06  0.158007  7.483512e-05   \n",
            "701284  0.377793  7.214112e-03  8.077222e-05  0.441762  7.633710e-03   \n",
            "766763  0.233784  3.192723e-01  5.549985e-02  0.328804  2.884401e-01   \n",
            "838933  0.205671  3.113291e-07  1.722046e-08  0.190121  4.762498e-06   \n",
            "25815   0.304987  1.752421e-01  1.237529e-01  0.363697  1.899775e-01   \n",
            "...          ...           ...           ...       ...           ...   \n",
            "253784  0.257880  6.046172e-03  9.950385e-05  0.274678  5.507848e-03   \n",
            "471538  0.000000  4.857226e-17  0.000000e+00  0.000000  5.551115e-17   \n",
            "728855  0.291572  8.737432e-03  4.533792e-05  0.409971  8.162603e-03   \n",
            "849578  0.000000  4.857226e-17  0.000000e+00  0.000000  5.551115e-17   \n",
            "417925  0.004883  1.061029e-02  3.665948e-05  0.008847  1.089486e-02   \n",
            "\n",
            "                 5         6             7         8         9    ...  \\\n",
            "436414  4.104907e-06  0.174082  9.725226e-05  0.000005  0.224737  ...   \n",
            "701284  7.501480e-05  0.576206  7.919074e-03  0.000071  0.770689  ...   \n",
            "766763  8.784721e-02  0.507184  2.563305e-01  0.112993  0.700340  ...   \n",
            "838933  2.573187e-07  0.183179  5.391468e-05  0.000003  0.210710  ...   \n",
            "25815   1.263019e-01  0.464912  2.208116e-01  0.119927  0.656188  ...   \n",
            "...              ...       ...           ...       ...       ...  ...   \n",
            "253784  1.051135e-04  0.315804  5.602137e-03  0.000103  0.413201  ...   \n",
            "471538  0.000000e+00  0.000000  4.857226e-17  0.000000  0.000000  ...   \n",
            "728855  6.278369e-05  0.596164  7.807645e-03  0.000073  0.793931  ...   \n",
            "849578  0.000000e+00  0.000000  4.857226e-17  0.000000  0.000000  ...   \n",
            "417925  6.048736e-05  0.033265  1.121525e-02  0.000600  0.103743  ...   \n",
            "\n",
            "                 105       106       107       108           109  \\\n",
            "436414  0.000000e+00  0.455462  0.365724  0.000000  2.081668e-17   \n",
            "701284  0.000000e+00  0.455462  0.365724  0.000000  2.081668e-17   \n",
            "766763  0.000000e+00  0.455462  0.365724  0.000000  3.588652e-01   \n",
            "838933  0.000000e+00  0.455462  0.365724  0.000000  2.081668e-17   \n",
            "25815   1.331683e-15  0.455462  0.365724  0.515873  3.503546e-01   \n",
            "...              ...       ...       ...       ...           ...   \n",
            "253784  0.000000e+00  0.455462  0.365724  0.000000  9.929078e-03   \n",
            "471538  0.000000e+00  0.455462  0.365724  0.000000  2.081668e-17   \n",
            "728855  0.000000e+00  0.455462  0.365724  0.000000  9.929078e-03   \n",
            "849578  0.000000e+00  0.455462  0.365724  0.000000  2.081668e-17   \n",
            "417925  3.783191e-18  0.455462  0.365724  0.000063  9.929078e-03   \n",
            "\n",
            "                 110           111           112       113       114  \n",
            "436414  0.000000e+00  6.938894e-18  0.000000e+00  0.447998  0.445605  \n",
            "701284  0.000000e+00  6.938894e-18  0.000000e+00  0.447998  0.445605  \n",
            "766763  0.000000e+00  3.588652e-01  0.000000e+00  0.447998  0.445605  \n",
            "838933  0.000000e+00  6.938894e-18  0.000000e+00  0.447998  0.445605  \n",
            "25815   2.505112e-08  3.503546e-01  6.071279e-16  0.447998  0.445605  \n",
            "...              ...           ...           ...       ...       ...  \n",
            "253784  0.000000e+00  9.929078e-03  0.000000e+00  0.447998  0.445605  \n",
            "471538  0.000000e+00  6.938894e-18  0.000000e+00  0.447998  0.445605  \n",
            "728855  0.000000e+00  9.929078e-03  0.000000e+00  0.447998  0.445605  \n",
            "849578  0.000000e+00  6.938894e-18  0.000000e+00  0.447998  0.445605  \n",
            "417925  1.400400e-09  9.929078e-03  1.897275e-18  0.447998  0.445605  \n",
            "\n",
            "[686509 rows x 115 columns]                  0             1             2             3             4    \\\n",
            "122350  1.983341e-01  2.503703e-01  1.030467e-01  2.855755e-01  2.233325e-01   \n",
            "939993  4.491751e-01  6.627286e-03  8.953910e-05  5.183514e-01  6.982224e-03   \n",
            "555308  4.295636e-01  1.005814e-02  6.653646e-07  5.464418e-01  1.007657e-02   \n",
            "214035  4.029960e-01  5.896291e-03  9.665062e-05  5.176035e-01  6.854400e-03   \n",
            "310398  5.034292e-11  5.888297e-10  6.364992e-11  4.521434e-08  6.890451e-07   \n",
            "...              ...           ...           ...           ...           ...   \n",
            "855988  2.785950e-01  1.012211e-02  4.779983e-06  4.100951e-01  1.011990e-02   \n",
            "544109  2.430352e-01  3.570118e-01  8.925306e-03  3.161495e-01  3.402840e-01   \n",
            "246923  1.118407e-02  2.090112e-02  4.137793e-03  9.067116e-03  2.059606e-02   \n",
            "550050  3.379944e-01  5.473193e-03  9.885708e-05  4.346110e-01  5.685403e-03   \n",
            "653843  2.880425e-01  1.000423e-02  1.931664e-06  3.729808e-01  1.002196e-02   \n",
            "\n",
            "                 5         6         7         8         9    ...  \\\n",
            "122350  1.189384e-01  0.427586  0.206895  0.124356  0.562673  ...   \n",
            "939993  8.697652e-05  0.628688  0.007626  0.000077  0.774223  ...   \n",
            "555308  1.259475e-06  0.733963  0.010207  0.000002  0.868461  ...   \n",
            "214035  8.895204e-05  0.746516  0.007863  0.000073  0.880333  ...   \n",
            "310398  7.601385e-08  0.000025  0.000789  0.000084  0.000334  ...   \n",
            "...              ...       ...       ...       ...       ...  ...   \n",
            "855988  3.973058e-06  0.633968  0.010229  0.000007  0.753565  ...   \n",
            "544109  3.241686e-02  0.483093  0.301551  0.079221  0.666929  ...   \n",
            "246923  4.196845e-03  0.005136  0.018806  0.003739  0.001756  ...   \n",
            "550050  1.005869e-04  0.580956  0.006304  0.000096  0.574762  ...   \n",
            "653843  1.857554e-06  0.520807  0.010150  0.000002  0.709909  ...   \n",
            "\n",
            "                 105       106       107       108           109  \\\n",
            "122350  4.116111e-15  0.455462  0.365724  0.587106  3.503546e-01   \n",
            "939993  0.000000e+00  0.455462  0.365724  0.000000  9.929078e-03   \n",
            "555308  0.000000e+00  0.455462  0.365724  0.000000  9.929078e-03   \n",
            "214035  0.000000e+00  0.455462  0.365724  0.000000  9.929078e-03   \n",
            "310398  1.890566e-18  0.455462  0.365724  0.000191  2.081668e-17   \n",
            "...              ...       ...       ...       ...           ...   \n",
            "855988  3.783191e-18  0.455462  0.365724  0.000023  9.929078e-03   \n",
            "544109  0.000000e+00  0.455462  0.365724  0.000000  3.588652e-01   \n",
            "246923  7.912904e-01  0.574772  0.585059  0.000133  2.297846e-02   \n",
            "550050  0.000000e+00  0.455462  0.365724  0.000000  9.929078e-03   \n",
            "653843  0.000000e+00  0.455462  0.365724  0.000000  9.929078e-03   \n",
            "\n",
            "                 110       111           112       113       114  \n",
            "122350  2.744213e-08  0.350355  7.285535e-16  0.447998  0.445605  \n",
            "939993  0.000000e+00  0.009929  0.000000e+00  0.447998  0.445605  \n",
            "555308  0.000000e+00  0.009929  0.000000e+00  0.447998  0.445605  \n",
            "214035  0.000000e+00  0.009929  0.000000e+00  0.447998  0.445605  \n",
            "310398  9.897192e-10  0.017626  9.491645e-19  0.447998  0.445605  \n",
            "...              ...       ...           ...       ...       ...  \n",
            "855988  0.000000e+00  0.025013  0.000000e+00  0.447998  0.445605  \n",
            "544109  0.000000e+00  0.358865  0.000000e+00  0.447998  0.445605  \n",
            "246923  7.180323e-02  0.441926  7.936612e-01  0.563997  0.633899  \n",
            "550050  0.000000e+00  0.009929  0.000000e+00  0.447998  0.445605  \n",
            "653843  0.000000e+00  0.009929  0.000000e+00  0.447998  0.445605  \n",
            "\n",
            "[294219 rows x 115 columns] 57489     1\n",
            "107271    1\n",
            "144680    1\n",
            "110955    1\n",
            "126194    1\n",
            "         ..\n",
            "104731    1\n",
            "30984     1\n",
            "122517    1\n",
            "64909     1\n",
            "130966    1\n",
            "Name: type, Length: 686509, dtype: int64 193690    1\n",
            "215678    1\n",
            "4082      1\n",
            "45443     1\n",
            "74684     0\n",
            "         ..\n",
            "21577     1\n",
            "237116    1\n",
            "71475     0\n",
            "117073    1\n",
            "173725    1\n",
            "Name: type, Length: 294219, dtype: int64\n"
          ]
        },
        {
          "output_type": "stream",
          "name": "stderr",
          "text": [
            "/usr/local/lib/python3.10/dist-packages/numpy/core/fromnumeric.py:59: FutureWarning: 'Series.swapaxes' is deprecated and will be removed in a future version. Please use 'Series.transpose' instead.\n",
            "  return bound(*args, **kwds)\n"
          ]
        },
        {
          "output_type": "stream",
          "name": "stdout",
          "text": [
            "(114418, 115)\n",
            "(49037, 115)\n",
            "(114418,)\n",
            "(49037,)\n",
            "client co-ordinates\n",
            "             0             1             2         3             4    \\\n",
            "121519  0.000000  4.857226e-17  0.000000e+00  0.000000  5.551115e-17   \n",
            "159585  0.494332  6.536254e-03  9.065572e-05  0.582465  7.095135e-03   \n",
            "159532  0.321797  8.188879e-03  6.020668e-05  0.397100  8.572402e-03   \n",
            "12909   0.387348  1.040836e-01  1.064221e-01  0.445774  1.474798e-01   \n",
            "45278   0.000004  4.327679e-03  8.676115e-07  0.000042  4.555794e-03   \n",
            "...          ...           ...           ...       ...           ...   \n",
            "33569   0.553033  8.643596e-03  4.804966e-05  0.743696  8.436514e-03   \n",
            "40172   0.673117  6.384162e-03  9.237549e-05  0.817713  7.104918e-03   \n",
            "228     0.000000  4.857226e-17  0.000000e+00  0.000000  5.551115e-17   \n",
            "10739   0.279257  9.986269e-03  2.635519e-06  0.364523  1.001830e-02   \n",
            "46015   0.227047  2.455656e-01  1.056160e-01  0.280613  2.578994e-01   \n",
            "\n",
            "             5         6             7         8         9    ...       105  \\\n",
            "121519  0.000000  0.000000  4.857226e-17  0.000000  0.000000  ...  0.000000   \n",
            "159585  0.000085  0.678335  7.857628e-03  0.000072  0.751519  ...  0.000000   \n",
            "159532  0.000052  0.531774  8.438025e-03  0.000058  0.724487  ...  0.000000   \n",
            "12909   0.128841  0.555294  2.083345e-01  0.131209  0.706242  ...  0.000000   \n",
            "45278   0.000011  0.000406  6.345066e-03  0.000089  0.001233  ...  0.000172   \n",
            "...          ...       ...           ...       ...       ...  ...       ...   \n",
            "33569   0.000056  0.912977  8.362197e-03  0.000060  0.873722  ...  0.000000   \n",
            "40172   0.000085  0.898022  7.850271e-03  0.000072  0.863821  ...  0.000000   \n",
            "228     0.000000  0.000000  4.857226e-17  0.000000  0.000000  ...  0.000000   \n",
            "10739   0.000002  0.517162  1.015145e-02  0.000002  0.713480  ...  0.000000   \n",
            "46015   0.101233  0.395449  2.563563e-01  0.104042  0.483498  ...  0.000000   \n",
            "\n",
            "             106       107       108           109       110           111  \\\n",
            "121519  0.455462  0.365724  0.000000  2.081668e-17  0.000000  6.938894e-18   \n",
            "159585  0.455462  0.365724  0.000000  2.081668e-17  0.000000  6.938894e-18   \n",
            "159532  0.455462  0.365724  0.000000  2.081668e-17  0.000000  6.938894e-18   \n",
            "12909   0.455462  0.365724  0.000000  2.081668e-17  0.000000  6.938894e-18   \n",
            "45278   0.455474  0.376558  0.000599  7.440118e-03  0.010375  2.858779e-02   \n",
            "...          ...       ...       ...           ...       ...           ...   \n",
            "33569   0.455462  0.365724  0.000000  9.929078e-03  0.000000  9.929078e-03   \n",
            "40172   0.455462  0.365724  0.000000  9.929078e-03  0.000000  9.929078e-03   \n",
            "228     0.455462  0.365724  0.000000  2.081668e-17  0.000000  6.938894e-18   \n",
            "10739   0.455462  0.365724  0.000000  9.929078e-03  0.000000  9.929078e-03   \n",
            "46015   0.455462  0.365724  0.000000  2.081668e-17  0.000000  6.938894e-18   \n",
            "\n",
            "             112       113       114  \n",
            "121519  0.000000  0.447998  0.445605  \n",
            "159585  0.000000  0.447998  0.445605  \n",
            "159532  0.000000  0.447998  0.445605  \n",
            "12909   0.000000  0.447998  0.445605  \n",
            "45278   0.000158  0.448010  0.456851  \n",
            "...          ...       ...       ...  \n",
            "33569   0.000000  0.447998  0.445605  \n",
            "40172   0.000000  0.447998  0.445605  \n",
            "228     0.000000  0.447998  0.445605  \n",
            "10739   0.000000  0.447998  0.445605  \n",
            "46015   0.000000  0.447998  0.445605  \n",
            "\n",
            "[114418 rows x 115 columns]              0             1         2         3             4         5    \\\n",
            "104649  0.000000  4.857226e-17  0.000000  0.000000  5.551115e-17  0.000000   \n",
            "139557  0.500499  8.036564e-03  0.000064  0.630884  7.874325e-03  0.000070   \n",
            "8270    0.000000  4.857226e-17  0.000000  0.000000  5.551115e-17  0.000000   \n",
            "63048   0.432034  8.809115e-03  0.000043  0.583156  8.415578e-03  0.000056   \n",
            "93662   0.000000  4.857226e-17  0.000000  0.000000  5.551115e-17  0.000000   \n",
            "...          ...           ...       ...       ...           ...       ...   \n",
            "149975  0.378027  1.867441e-01  0.130051  0.458681  1.966591e-01  0.132742   \n",
            "93977   0.147190  9.146283e-03  0.000033  0.188156  7.780513e-03  0.000072   \n",
            "52278   0.141966  8.128376e-03  0.000062  0.170470  6.269224e-03  0.000096   \n",
            "159785  0.395664  1.341923e-01  0.121273  0.461504  1.669213e-01  0.132725   \n",
            "5285    0.188599  3.214187e-01  0.041440  0.255143  3.041818e-01  0.061780   \n",
            "\n",
            "             6             7         8         9    ...           105  \\\n",
            "104649  0.000000  4.857226e-17  0.000000  0.000000  ...  0.000000e+00   \n",
            "139557  0.824332  8.123448e-03  0.000066  0.998971  ...  0.000000e+00   \n",
            "8270    0.000000  4.857226e-17  0.000000  0.000000  ...  0.000000e+00   \n",
            "63048   0.820380  8.261516e-03  0.000063  0.926393  ...  0.000000e+00   \n",
            "93662   0.000000  4.857226e-17  0.000000  0.000000  ...  0.000000e+00   \n",
            "...          ...           ...       ...       ...  ...           ...   \n",
            "149975  0.577760  2.237291e-01  0.127327  0.637987  ...  0.000000e+00   \n",
            "93977   0.344583  6.279028e-03  0.000097  0.419292  ...  0.000000e+00   \n",
            "52278   0.238159  4.294299e-03  0.000100  0.784745  ...  0.000000e+00   \n",
            "159785  0.570343  2.155253e-01  0.129635  0.709222  ...  0.000000e+00   \n",
            "5285    0.420944  2.735004e-01  0.091805  0.657157  ...  4.842484e-16   \n",
            "\n",
            "             106       107       108           109           110  \\\n",
            "104649  0.455462  0.365724  0.000000  2.081668e-17  0.000000e+00   \n",
            "139557  0.455462  0.365724  0.000000  9.929078e-03  0.000000e+00   \n",
            "8270    0.455462  0.365724  0.000000  2.081668e-17  0.000000e+00   \n",
            "63048   0.455462  0.365724  0.000000  9.929078e-03  0.000000e+00   \n",
            "93662   0.455462  0.365724  0.000000  2.081668e-17  0.000000e+00   \n",
            "...          ...       ...       ...           ...           ...   \n",
            "149975  0.455462  0.365724  0.000000  3.588652e-01  0.000000e+00   \n",
            "93977   0.455462  0.365724  0.000000  9.929078e-03  0.000000e+00   \n",
            "52278   0.455462  0.365724  0.000000  9.929078e-03  0.000000e+00   \n",
            "159785  0.455462  0.365724  0.000000  3.588652e-01  0.000000e+00   \n",
            "5285    0.455462  0.365724  0.509934  3.503546e-01  3.360961e-08   \n",
            "\n",
            "                 111           112       113       114  \n",
            "104649  6.938894e-18  0.000000e+00  0.447998  0.445605  \n",
            "139557  9.929078e-03  0.000000e+00  0.447998  0.445605  \n",
            "8270    6.938894e-18  0.000000e+00  0.447998  0.445605  \n",
            "63048   9.929078e-03  0.000000e+00  0.447998  0.445605  \n",
            "93662   6.938894e-18  0.000000e+00  0.447998  0.445605  \n",
            "...              ...           ...       ...       ...  \n",
            "149975  3.588652e-01  0.000000e+00  0.447998  0.445605  \n",
            "93977   9.929078e-03  0.000000e+00  0.447998  0.445605  \n",
            "52278   9.929078e-03  0.000000e+00  0.447998  0.445605  \n",
            "159785  3.588652e-01  0.000000e+00  0.447998  0.445605  \n",
            "5285    3.503546e-01  1.092830e-15  0.447998  0.445605  \n",
            "\n",
            "[49037 rows x 115 columns] 163060    1\n",
            "11907     1\n",
            "233579    1\n",
            "139662    1\n",
            "262414    0\n",
            "         ..\n",
            "100488    1\n",
            "42358     1\n",
            "22112     1\n",
            "135860    1\n",
            "13247     1\n",
            "Name: type, Length: 114418, dtype: int64 19441     1\n",
            "82190     1\n",
            "209196    1\n",
            "93689     1\n",
            "64418     1\n",
            "         ..\n",
            "257127    1\n",
            "173816    1\n",
            "229510    1\n",
            "273540    1\n",
            "172227    1\n",
            "Name: type, Length: 49037, dtype: int64\n",
            "(114418, 115) (49037, 115) (114418,) (49037,)\n",
            "(114418, 115)\n",
            "(49037, 115)\n",
            "(114418,)\n",
            "(49037,)\n",
            "client co-ordinates\n",
            "             0             1             2         3             4    \\\n",
            "65756   0.267401  7.562172e-03  7.428912e-05  0.377661  7.031020e-03   \n",
            "66983   0.004576  4.857226e-17  2.765620e-18  0.003586  5.551115e-17   \n",
            "100903  0.000000  4.857226e-17  0.000000e+00  0.000000  5.551115e-17   \n",
            "86756   0.284261  9.314141e-03  2.714676e-05  0.393500  8.707877e-03   \n",
            "64394   0.008083  3.379610e-03  1.238048e-05  0.006826  3.429488e-03   \n",
            "...          ...           ...           ...       ...           ...   \n",
            "85325   0.423533  1.003749e-02  3.785606e-06  0.538716  1.008560e-02   \n",
            "4466    0.179270  3.023126e-01  6.249811e-02  0.217226  2.968560e-01   \n",
            "115133  0.154851  6.071449e-03  9.535447e-05  0.218073  5.507954e-03   \n",
            "6559    0.340515  8.894805e-02  9.323311e-02  0.384308  1.197273e-01   \n",
            "37417   0.080996  5.189307e-03  9.969891e-05  0.132058  6.194166e-03   \n",
            "\n",
            "                 5         6             7             8         9    ...  \\\n",
            "65756   8.619939e-05  0.561332  6.833019e-03  9.039367e-05  0.742435  ...   \n",
            "66983   9.499321e-19  0.001689  5.749796e-10  4.922643e-11  0.000336  ...   \n",
            "100903  0.000000e+00  0.000000  4.857226e-17  0.000000e+00  0.000000  ...   \n",
            "86756   4.780919e-05  0.564434  8.076234e-03  6.720493e-05  0.750079  ...   \n",
            "64394   1.225712e-05  0.003896  3.569592e-03  1.120725e-05  0.001412  ...   \n",
            "...              ...       ...           ...           ...       ...  ...   \n",
            "85325   2.081786e-05  0.727080  1.032033e-02  8.941630e-05  0.706069  ...   \n",
            "4466    6.998279e-02  0.325442  2.638462e-01  9.941943e-02  0.481654  ...   \n",
            "115133  1.014210e-04  0.318810  5.550879e-03  1.014665e-04  0.419810  ...   \n",
            "6559    1.138385e-01  0.456517  1.692720e-01  1.268107e-01  0.562510  ...   \n",
            "37417   9.730767e-05  0.292580  7.020082e-03  8.829718e-05  0.432870  ...   \n",
            "\n",
            "                 105       106       107       108           109  \\\n",
            "65756   0.000000e+00  0.455462  0.365724  0.000000  9.929078e-03   \n",
            "66983   2.449238e-04  0.455462  0.365725  0.000115  1.597319e-02   \n",
            "100903  0.000000e+00  0.455462  0.365724  0.000000  2.081668e-17   \n",
            "86756   0.000000e+00  0.455462  0.365724  0.000000  9.929078e-03   \n",
            "64394   5.044628e-05  0.455462  0.365724  0.000621  4.256168e-03   \n",
            "...              ...       ...       ...       ...           ...   \n",
            "85325   0.000000e+00  0.455462  0.365724  0.000000  9.929078e-03   \n",
            "4466    2.905490e-15  0.455462  0.365724  0.323841  3.503546e-01   \n",
            "115133  0.000000e+00  0.455462  0.365724  0.000000  9.929078e-03   \n",
            "6559    1.936994e-15  0.455462  0.365724  0.388176  3.503546e-01   \n",
            "37417   0.000000e+00  0.455462  0.365724  0.000000  2.081668e-17   \n",
            "\n",
            "                 110           111           112       113       114  \n",
            "65756   0.000000e+00  9.929078e-03  0.000000e+00  0.447998  0.445605  \n",
            "66983   1.905656e-02  2.983415e-02  3.513298e-04  0.447999  0.456671  \n",
            "100903  0.000000e+00  6.938894e-18  0.000000e+00  0.447998  0.445605  \n",
            "86756   0.000000e+00  9.929078e-03  0.000000e+00  0.447998  0.445605  \n",
            "64394   1.760071e-04  3.985106e-02  4.558199e-04  0.447998  0.444914  \n",
            "...              ...           ...           ...       ...       ...  \n",
            "85325   0.000000e+00  9.929078e-03  0.000000e+00  0.447998  0.445605  \n",
            "4466    4.753116e-08  3.503546e-01  2.185661e-15  0.447998  0.445605  \n",
            "115133  0.000000e+00  9.929078e-03  0.000000e+00  0.447998  0.445605  \n",
            "6559    8.821410e-08  3.503546e-01  7.528387e-15  0.447998  0.445605  \n",
            "37417   0.000000e+00  6.938894e-18  0.000000e+00  0.447998  0.445605  \n",
            "\n",
            "[114418 rows x 115 columns]              0             1             2         3             4    \\\n",
            "14943   0.291016  3.486814e-01  2.016669e-02  0.356239  3.250703e-01   \n",
            "117534  0.000000  4.857226e-17  0.000000e+00  0.000000  5.551115e-17   \n",
            "31416   0.317443  2.347848e-10  3.191456e-11  0.284837  5.265803e-08   \n",
            "86026   0.332449  1.834181e-01  1.301531e-01  0.399481  2.141632e-01   \n",
            "132291  0.061216  1.335375e-03  4.591058e-05  0.083605  2.652865e-03   \n",
            "...          ...           ...           ...       ...           ...   \n",
            "56524   0.000000  4.857226e-17  0.000000e+00  0.000000  5.551115e-17   \n",
            "102022  0.410581  7.763494e-03  7.010303e-05  0.542255  7.078429e-03   \n",
            "63201   0.184162  9.057960e-03  3.930537e-05  0.223421  8.539518e-03   \n",
            "73734   0.345762  3.060155e-01  6.900570e-02  0.455757  3.134825e-01   \n",
            "105018  0.368851  8.906308e-03  4.028266e-05  0.436332  8.271854e-03   \n",
            "\n",
            "                 5         6             7         8         9    ...  105  \\\n",
            "14943   5.091968e-02  0.502485  2.881998e-01  0.090838  0.703594  ...  0.0   \n",
            "117534  0.000000e+00  0.000000  4.857226e-17  0.000000  0.000000  ...  0.0   \n",
            "31416   7.337936e-09  0.249883  7.424513e-06  0.000001  0.261926  ...  0.0   \n",
            "86026   1.294440e-01  0.538324  2.384634e-01  0.121892  0.702981  ...  0.0   \n",
            "132291  7.941286e-05  0.185647  5.162772e-03  0.000102  0.365062  ...  0.0   \n",
            "...              ...       ...           ...       ...       ...  ...  ...   \n",
            "56524   0.000000e+00  0.000000  4.857226e-17  0.000000  0.000000  ...  0.0   \n",
            "102022  8.542578e-05  0.698426  6.567369e-03  0.000094  0.652767  ...  0.0   \n",
            "63201   5.615037e-05  0.315461  6.961209e-03  0.000090  0.390440  ...  0.0   \n",
            "73734   6.364104e-02  0.628198  3.046933e-01  0.076192  0.714322  ...  0.0   \n",
            "105018  5.997570e-05  0.362405  7.600780e-03  0.000077  0.583386  ...  0.0   \n",
            "\n",
            "             106       107  108           109  110           111  112  \\\n",
            "14943   0.455462  0.365724  0.0  3.588652e-01  0.0  3.588652e-01  0.0   \n",
            "117534  0.455462  0.365724  0.0  2.081668e-17  0.0  6.938894e-18  0.0   \n",
            "31416   0.455462  0.365724  0.0  2.081668e-17  0.0  6.938894e-18  0.0   \n",
            "86026   0.455462  0.365724  0.0  2.081668e-17  0.0  6.938894e-18  0.0   \n",
            "132291  0.455462  0.365724  0.0  2.081668e-17  0.0  6.938894e-18  0.0   \n",
            "...          ...       ...  ...           ...  ...           ...  ...   \n",
            "56524   0.455462  0.365724  0.0  2.081668e-17  0.0  6.938894e-18  0.0   \n",
            "102022  0.455462  0.365724  0.0  2.081668e-17  0.0  6.938894e-18  0.0   \n",
            "63201   0.455462  0.365724  0.0  2.081668e-17  0.0  6.938894e-18  0.0   \n",
            "73734   0.455462  0.365724  0.0  3.588652e-01  0.0  3.588652e-01  0.0   \n",
            "105018  0.455462  0.365724  0.0  9.929078e-03  0.0  9.929078e-03  0.0   \n",
            "\n",
            "             113       114  \n",
            "14943   0.447998  0.445605  \n",
            "117534  0.447998  0.445605  \n",
            "31416   0.447998  0.445605  \n",
            "86026   0.447998  0.445605  \n",
            "132291  0.447998  0.445605  \n",
            "...          ...       ...  \n",
            "56524   0.447998  0.445605  \n",
            "102022  0.447998  0.445605  \n",
            "63201   0.447998  0.445605  \n",
            "73734   0.447998  0.445605  \n",
            "105018  0.447998  0.445605  \n",
            "\n",
            "[49037 rows x 115 columns] 90249     1\n",
            "83489     0\n",
            "57120     1\n",
            "205525    1\n",
            "51447     0\n",
            "         ..\n",
            "186853    1\n",
            "45824     1\n",
            "24243     1\n",
            "214684    1\n",
            "173248    1\n",
            "Name: type, Length: 114418, dtype: int64 63070     1\n",
            "80095     1\n",
            "253415    1\n",
            "93624     1\n",
            "169306    1\n",
            "         ..\n",
            "90316     1\n",
            "38273     1\n",
            "2317      1\n",
            "2391      1\n",
            "252830    1\n",
            "Name: type, Length: 49037, dtype: int64\n",
            "(114418, 115) (49037, 115) (114418,) (49037,)\n",
            "(114418, 115)\n",
            "(49037, 115)\n",
            "(114418,)\n",
            "(49037,)\n",
            "client co-ordinates\n",
            "                 0             1             2             3             4    \\\n",
            "66756   2.853053e-01  2.387442e-03  7.226439e-05  3.408960e-01  3.717144e-03   \n",
            "14204   3.758545e-01  3.852433e-03  9.420666e-05  4.496396e-01  4.962840e-03   \n",
            "135880  3.804695e-01  1.009468e-02  1.176716e-05  4.171258e-01  1.018013e-02   \n",
            "122597  3.921377e-01  1.005632e-02  2.199188e-07  5.088887e-01  1.007621e-02   \n",
            "123101  0.000000e+00  4.857226e-17  0.000000e+00  0.000000e+00  5.551115e-17   \n",
            "...              ...           ...           ...           ...           ...   \n",
            "125710  2.603635e-01  4.609058e-03  9.895611e-05  3.254931e-01  5.717153e-03   \n",
            "55833   5.086111e-01  5.920748e-03  9.649064e-05  6.045190e-01  6.571490e-03   \n",
            "75380   2.444240e-01  4.337087e-03  1.016715e-04  2.750430e-01  5.085389e-03   \n",
            "130758  6.178450e-11  7.324468e-10  7.849479e-11  5.128955e-08  7.816120e-07   \n",
            "107983  0.000000e+00  4.857226e-17  0.000000e+00  0.000000e+00  5.551115e-17   \n",
            "\n",
            "                 5         6             7         8         9    ...  \\\n",
            "66756   9.550662e-05  0.491527  6.368228e-03  0.000096  0.690291  ...   \n",
            "14204   1.022800e-04  0.586473  6.304336e-03  0.000096  0.749810  ...   \n",
            "135880  5.804903e-05  0.400725  1.052737e-02  0.000211  0.710548  ...   \n",
            "122597  1.144925e-06  0.714426  1.032884e-02  0.000267  0.777233  ...   \n",
            "123101  0.000000e+00  0.000000  4.857226e-17  0.000000  0.000000  ...   \n",
            "...              ...       ...           ...       ...       ...  ...   \n",
            "125710  1.004160e-04  0.466078  7.134850e-03  0.000086  0.754011  ...   \n",
            "55833   9.275656e-05  0.742596  7.555706e-03  0.000078  0.808408  ...   \n",
            "75380   1.050918e-04  0.334995  5.795262e-03  0.000101  0.421236  ...   \n",
            "130758  8.622517e-08  0.000026  8.207436e-04  0.000087  0.000244  ...   \n",
            "107983  0.000000e+00  0.000000  4.857226e-17  0.000000  0.000000  ...   \n",
            "\n",
            "                 105       106       107       108           109  110  \\\n",
            "66756   0.000000e+00  0.455462  0.365724  0.000000  9.929078e-03  0.0   \n",
            "14204   0.000000e+00  0.455462  0.365724  0.000000  2.081668e-17  0.0   \n",
            "135880  0.000000e+00  0.455462  0.365724  0.000023  9.929078e-03  0.0   \n",
            "122597  0.000000e+00  0.455462  0.365724  0.000000  9.929078e-03  0.0   \n",
            "123101  0.000000e+00  0.455462  0.365724  0.000000  2.081668e-17  0.0   \n",
            "...              ...       ...       ...       ...           ...  ...   \n",
            "125710  0.000000e+00  0.455462  0.365724  0.000000  2.081668e-17  0.0   \n",
            "55833   0.000000e+00  0.455462  0.365724  0.000000  9.929078e-03  0.0   \n",
            "75380   0.000000e+00  0.455462  0.365724  0.000000  2.081668e-17  0.0   \n",
            "130758  9.463231e-19  0.455462  0.365724  0.000202  2.081668e-17  0.0   \n",
            "107983  0.000000e+00  0.455462  0.365724  0.000000  2.081668e-17  0.0   \n",
            "\n",
            "                 111           112       113       114  \n",
            "66756   9.929078e-03  0.000000e+00  0.447998  0.445605  \n",
            "14204   6.938894e-18  0.000000e+00  0.447998  0.445605  \n",
            "135880  2.501280e-02  0.000000e+00  0.447998  0.445605  \n",
            "122597  9.929078e-03  0.000000e+00  0.447998  0.445605  \n",
            "123101  6.938894e-18  0.000000e+00  0.447998  0.445605  \n",
            "...              ...           ...       ...       ...  \n",
            "125710  6.938894e-18  0.000000e+00  0.447998  0.445605  \n",
            "55833   9.929078e-03  0.000000e+00  0.447998  0.445605  \n",
            "75380   6.938894e-18  0.000000e+00  0.447998  0.445605  \n",
            "130758  1.762611e-02  9.491645e-19  0.447998  0.445605  \n",
            "107983  6.938894e-18  0.000000e+00  0.447998  0.445605  \n",
            "\n",
            "[114418 rows x 115 columns]              0             1             2         3             4    \\\n",
            "130217  0.420446  1.012191e-02  4.652099e-06  0.528082  1.012180e-02   \n",
            "107433  0.000006  6.877473e-02  4.107024e-05  0.000068  6.666599e-02   \n",
            "61688   0.360534  1.008637e-02  2.250554e-06  0.476994  1.010326e-02   \n",
            "90648   0.245034  2.011155e-06  6.827556e-08  0.228784  7.843250e-06   \n",
            "63695   0.272521  4.231488e-10  5.751909e-11  0.249222  7.818584e-08   \n",
            "...          ...           ...           ...       ...           ...   \n",
            "22625   0.624817  7.716167e-03  7.111586e-05  0.663643  7.560820e-03   \n",
            "112632  0.275108  9.937920e-03  1.380416e-05  0.377694  9.492406e-03   \n",
            "142408  0.299347  9.889780e-03  6.373341e-06  0.396755  9.506135e-03   \n",
            "17726   0.234919  9.647162e-03  1.544753e-05  0.331141  9.102029e-03   \n",
            "78054   0.033721  1.042487e-02  1.302463e-04  0.042680  1.105562e-02   \n",
            "\n",
            "                 5         6         7         8         9    ...  \\\n",
            "130217  3.746109e-06  0.690191  0.010228  0.000003  0.849157  ...   \n",
            "107433  5.987848e-04  0.000606  0.042215  0.004201  0.001163  ...   \n",
            "61688   2.460349e-06  0.690935  0.010224  0.000005  0.833187  ...   \n",
            "90648   2.733022e-07  0.219383  0.000241  0.000009  0.390837  ...   \n",
            "63695   1.089525e-08  0.232461  0.000009  0.000001  0.259183  ...   \n",
            "...              ...       ...       ...       ...       ...  ...   \n",
            "22625   7.652337e-05  0.685382  0.007676  0.000076  0.739811  ...   \n",
            "112632  3.033668e-05  0.580249  0.008591  0.000060  0.673776  ...   \n",
            "142408  2.155752e-05  0.585728  0.008641  0.000053  0.742848  ...   \n",
            "17726   3.549821e-05  0.522820  0.008243  0.000064  0.730061  ...   \n",
            "78054   1.700374e-03  0.068309  0.017909  0.017625  0.102264  ...   \n",
            "\n",
            "                 105       106       107       108           109  \\\n",
            "130217  0.000000e+00  0.455462  0.365724  0.000000  9.929078e-03   \n",
            "107433  4.235636e-03  0.455258  0.350535  0.000603  2.176136e-02   \n",
            "61688   0.000000e+00  0.455462  0.365724  0.000000  9.929078e-03   \n",
            "90648   0.000000e+00  0.455462  0.365724  0.000000  2.081668e-17   \n",
            "63695   0.000000e+00  0.455462  0.365724  0.000000  2.081668e-17   \n",
            "...              ...       ...       ...       ...           ...   \n",
            "22625   0.000000e+00  0.455462  0.365724  0.000000  9.929078e-03   \n",
            "112632  0.000000e+00  0.455462  0.365724  0.000000  9.929078e-03   \n",
            "142408  0.000000e+00  0.455462  0.365724  0.000000  9.929078e-03   \n",
            "17726   0.000000e+00  0.455462  0.365724  0.000000  9.929078e-03   \n",
            "78054   1.891595e-18  0.455462  0.365724  0.000063  9.929078e-03   \n",
            "\n",
            "                 110           111           112       113       114  \n",
            "130217  0.000000e+00  9.929078e-03  0.000000e+00  0.447998  0.445605  \n",
            "107433  5.896130e-02  4.425672e-02  3.585993e-03  0.448273  0.459372  \n",
            "61688   0.000000e+00  9.929078e-03  0.000000e+00  0.447998  0.445605  \n",
            "90648   0.000000e+00  6.938894e-18  0.000000e+00  0.447998  0.445605  \n",
            "63695   0.000000e+00  6.938894e-18  0.000000e+00  0.447998  0.445605  \n",
            "...              ...           ...           ...       ...       ...  \n",
            "22625   0.000000e+00  9.929078e-03  0.000000e+00  0.447998  0.445605  \n",
            "112632  0.000000e+00  9.929078e-03  0.000000e+00  0.447998  0.445605  \n",
            "142408  0.000000e+00  9.929078e-03  0.000000e+00  0.447998  0.445605  \n",
            "17726   0.000000e+00  9.929078e-03  0.000000e+00  0.447998  0.445605  \n",
            "78054   1.980465e-09  9.929078e-03  3.794550e-18  0.447998  0.445605  \n",
            "\n",
            "[49037 rows x 115 columns] 89085     1\n",
            "126330    1\n",
            "133427    1\n",
            "170993    1\n",
            "12911     1\n",
            "         ..\n",
            "18797     1\n",
            "153613    1\n",
            "50545     1\n",
            "16143     0\n",
            "171907    1\n",
            "Name: type, Length: 114418, dtype: int64 8598      1\n",
            "259200    0\n",
            "247245    1\n",
            "138766    1\n",
            "60475     1\n",
            "         ..\n",
            "210186    1\n",
            "137960    1\n",
            "237448    1\n",
            "170320    1\n",
            "241792    1\n",
            "Name: type, Length: 49037, dtype: int64\n",
            "(114418, 115) (49037, 115) (114418,) (49037,)\n",
            "(114417, 115)\n",
            "(49037, 115)\n",
            "(114417,)\n",
            "(49037,)\n",
            "client co-ordinates\n",
            "             0             1         2         3             4         5    \\\n",
            "41113   0.000195  9.261938e-03  0.000029  0.000537  7.748262e-03  0.000073   \n",
            "56088   0.258853  9.640343e-03  0.000016  0.351515  9.040866e-03  0.000037   \n",
            "130688  0.260442  9.270945e-03  0.000029  0.344478  8.571054e-03  0.000052   \n",
            "20464   0.000111  5.436864e-03  0.000283  0.000383  9.151454e-03  0.001169   \n",
            "121991  0.366240  1.948993e-01  0.129459  0.450791  2.027772e-01  0.131849   \n",
            "...          ...           ...       ...       ...           ...       ...   \n",
            "10645   0.000000  4.857226e-17  0.000000  0.000000  5.551115e-17  0.000000   \n",
            "125602  0.294535  2.631552e-01  0.103983  0.358412  2.718318e-01  0.101015   \n",
            "106245  0.394610  1.008653e-02  0.000002  0.497779  1.010369e-02  0.000002   \n",
            "10118   0.246244  2.550799e-01  0.100247  0.337501  2.393463e-01  0.111994   \n",
            "124609  0.233057  1.897257e-01  0.129903  0.304909  1.797368e-01  0.133599   \n",
            "\n",
            "             6             7         8         9    ...           105  \\\n",
            "41113   0.000934  5.323797e-03  0.000124  0.000493  ...  0.000000e+00   \n",
            "56088   0.539478  8.188436e-03  0.000065  0.733899  ...  0.000000e+00   \n",
            "130688  0.502998  7.858270e-03  0.000072  0.689046  ...  0.000000e+00   \n",
            "20464   0.000882  1.875994e-02  0.002897  0.001062  ...  1.190629e-05   \n",
            "121991  0.572151  2.257102e-01  0.126670  0.708382  ...  0.000000e+00   \n",
            "...          ...           ...       ...       ...  ...           ...   \n",
            "10645   0.000000  4.857226e-17  0.000000  0.000000  ...  0.000000e+00   \n",
            "125602  0.509168  2.761039e-01  0.100211  0.702589  ...  0.000000e+00   \n",
            "106245  0.678245  1.022711e-02  0.000006  0.882778  ...  1.891595e-18   \n",
            "10118   0.475182  2.443664e-01  0.110827  0.586946  ...  1.815931e-15   \n",
            "124609  0.401794  1.958406e-01  0.132931  0.417102  ...  0.000000e+00   \n",
            "\n",
            "             106       107       108           109           110  \\\n",
            "41113   0.455462  0.365724  0.000000  9.929078e-03  0.000000e+00   \n",
            "56088   0.455462  0.365724  0.000000  9.929078e-03  0.000000e+00   \n",
            "130688  0.455462  0.365724  0.000000  9.929078e-03  0.000000e+00   \n",
            "20464   0.455462  0.365724  0.000563  4.255372e-03  4.406733e-05   \n",
            "121991  0.455462  0.365724  0.000000  3.588652e-01  0.000000e+00   \n",
            "...          ...       ...       ...           ...           ...   \n",
            "10645   0.455462  0.365724  0.000000  2.081668e-17  0.000000e+00   \n",
            "125602  0.455462  0.365724  0.000000  3.588652e-01  0.000000e+00   \n",
            "106245  0.455462  0.365724  0.000023  9.929078e-03  0.000000e+00   \n",
            "10118   0.455462  0.365724  0.728080  3.503546e-01  5.010224e-08   \n",
            "124609  0.455462  0.365724  0.000000  3.588652e-01  0.000000e+00   \n",
            "\n",
            "                 111           112       113       114  \n",
            "41113   9.929078e-03  0.000000e+00  0.447998  0.445605  \n",
            "56088   9.929078e-03  0.000000e+00  0.447998  0.445605  \n",
            "130688  9.929078e-03  0.000000e+00  0.447998  0.445605  \n",
            "20464   4.057265e-02  3.953464e-04  0.447998  0.443450  \n",
            "121991  3.588652e-01  0.000000e+00  0.447998  0.445605  \n",
            "...              ...           ...       ...       ...  \n",
            "10645   6.938894e-18  0.000000e+00  0.447998  0.445605  \n",
            "125602  3.588652e-01  0.000000e+00  0.447998  0.445605  \n",
            "106245  2.501280e-02  0.000000e+00  0.447998  0.445605  \n",
            "10118   3.503546e-01  2.428512e-15  0.447998  0.445605  \n",
            "124609  3.588652e-01  0.000000e+00  0.447998  0.445605  \n",
            "\n",
            "[114417 rows x 115 columns]              0             1             2         3             4    \\\n",
            "144859  0.370745  2.356471e-01  1.186774e-01  0.460692  2.568434e-01   \n",
            "145951  0.000000  4.857226e-17  0.000000e+00  0.000000  5.551115e-17   \n",
            "32409   0.298188  6.941417e-03  8.527143e-05  0.421582  6.587060e-03   \n",
            "108528  0.126019  1.697533e-01  1.238316e-01  0.179540  1.572864e-01   \n",
            "82922   0.000000  4.857226e-17  0.000000e+00  0.000000  5.551115e-17   \n",
            "...          ...           ...           ...       ...           ...   \n",
            "100327  0.122162  9.925174e-03  5.010780e-06  0.182488  9.759291e-03   \n",
            "61565   0.120870  7.386486e-06  2.890519e-07  0.129709  1.502899e-04   \n",
            "85794   0.302025  2.572177e-01  1.075799e-01  0.357732  2.339116e-01   \n",
            "11528   0.259203  1.320749e-01  1.159745e-01  0.306955  1.633993e-01   \n",
            "29624   0.326922  1.848929e-01  1.300924e-01  0.391996  1.940355e-01   \n",
            "\n",
            "             5         6             7         8         9    ...  \\\n",
            "144859  0.110985  0.599128  2.825833e-01  0.095339  0.597126  ...   \n",
            "145951  0.000000  0.000000  4.857226e-17  0.000000  0.000000  ...   \n",
            "32409   0.000093  0.653273  6.403653e-03  0.000095  0.672888  ...   \n",
            "108528  0.125690  0.290722  1.664468e-01  0.126532  0.363476  ...   \n",
            "82922   0.000000  0.000000  4.857226e-17  0.000000  0.000000  ...   \n",
            "...          ...       ...           ...       ...       ...  ...   \n",
            "100327  0.000012  0.360669  8.940320e-03  0.000044  0.394030  ...   \n",
            "61565   0.000006  0.216124  2.997566e-03  0.000085  0.447845  ...   \n",
            "85794   0.122670  0.423308  2.166738e-01  0.129299  0.422696  ...   \n",
            "11528   0.126555  0.414326  1.917320e-01  0.126693  0.557774  ...   \n",
            "29624   0.132990  0.481589  2.306520e-01  0.124939  0.668037  ...   \n",
            "\n",
            "                 105       106       107       108           109  \\\n",
            "144859  0.000000e+00  0.455462  0.365724  0.000000  3.588652e-01   \n",
            "145951  0.000000e+00  0.455462  0.365724  0.000000  2.081668e-17   \n",
            "32409   0.000000e+00  0.455462  0.365724  0.000000  9.929078e-03   \n",
            "108528  2.300180e-15  0.455462  0.365724  0.203253  3.503546e-01   \n",
            "82922   0.000000e+00  0.455462  0.365724  0.000000  2.081668e-17   \n",
            "...              ...       ...       ...       ...           ...   \n",
            "100327  0.000000e+00  0.455462  0.365724  0.000000  9.929078e-03   \n",
            "61565   0.000000e+00  0.455462  0.365724  0.000000  2.081668e-17   \n",
            "85794   0.000000e+00  0.455462  0.365724  0.000000  3.588652e-01   \n",
            "11528   0.000000e+00  0.455462  0.365724  0.000000  2.081668e-17   \n",
            "29624   0.000000e+00  0.455462  0.365724  0.000000  3.588652e-01   \n",
            "\n",
            "                 110           111           112       113       114  \n",
            "144859  0.000000e+00  3.588652e-01  0.000000e+00  0.447998  0.445605  \n",
            "145951  0.000000e+00  6.938894e-18  0.000000e+00  0.447998  0.445605  \n",
            "32409   0.000000e+00  9.929078e-03  0.000000e+00  0.447998  0.445605  \n",
            "108528  9.170216e-08  3.503546e-01  8.135514e-15  0.447998  0.445605  \n",
            "82922   0.000000e+00  6.938894e-18  0.000000e+00  0.447998  0.445605  \n",
            "...              ...           ...           ...       ...       ...  \n",
            "100327  0.000000e+00  9.929078e-03  0.000000e+00  0.447998  0.445605  \n",
            "61565   0.000000e+00  6.938894e-18  0.000000e+00  0.447998  0.445605  \n",
            "85794   0.000000e+00  3.588652e-01  0.000000e+00  0.447998  0.445605  \n",
            "11528   0.000000e+00  6.938894e-18  0.000000e+00  0.447998  0.445605  \n",
            "29624   0.000000e+00  3.588652e-01  0.000000e+00  0.447998  0.445605  \n",
            "\n",
            "[49037 rows x 115 columns] 23639     0\n",
            "53972     1\n",
            "57923     1\n",
            "85837     0\n",
            "224722    1\n",
            "         ..\n",
            "101006    1\n",
            "115768    1\n",
            "33334     1\n",
            "146136    1\n",
            "127580    1\n",
            "Name: type, Length: 114417, dtype: int64 76847     1\n",
            "83519     1\n",
            "264571    1\n",
            "46838     1\n",
            "35756     1\n",
            "         ..\n",
            "117953    1\n",
            "87594     1\n",
            "77275     1\n",
            "153941    1\n",
            "104409    1\n",
            "Name: type, Length: 49037, dtype: int64\n",
            "(114417, 115) (49037, 115) (114417,) (49037,)\n",
            "(114417, 115)\n",
            "(49037, 115)\n",
            "(114417,)\n",
            "(49037,)\n",
            "client co-ordinates\n",
            "             0             1         2         3             4         5    \\\n",
            "83964   0.000000  4.857226e-17  0.000000  0.000000  5.551115e-17  0.000000   \n",
            "154745  0.368062  9.862200e-03  0.000007  0.452927  9.431476e-03  0.000024   \n",
            "23793   0.321437  4.279395e-03  0.000097  0.420726  5.347040e-03  0.000102   \n",
            "155830  0.183918  1.010787e-02  0.000004  0.166478  1.015974e-02  0.000007   \n",
            "79376   0.212358  3.399340e-01  0.031392  0.306630  3.116753e-01  0.065687   \n",
            "...          ...           ...       ...       ...           ...       ...   \n",
            "121943  0.228781  6.883742e-03  0.000086  0.319672  6.206181e-03  0.000097   \n",
            "108721  0.000000  4.857226e-17  0.000000  0.000000  5.551115e-17  0.000000   \n",
            "19978   0.000000  4.857226e-17  0.000000  0.000000  5.551115e-17  0.000000   \n",
            "134085  0.258140  9.381168e-03  0.000025  0.339804  8.669790e-03  0.000049   \n",
            "66829   0.358193  1.145766e-02  0.001509  0.466694  1.105938e-02  0.001083   \n",
            "\n",
            "             6             7         8         9    ...           105  \\\n",
            "83964   0.000000  4.857226e-17  0.000000  0.000000  ...  0.000000e+00   \n",
            "154745  0.672006  8.596718e-03  0.000055  0.875164  ...  0.000000e+00   \n",
            "23793   0.613154  7.141390e-03  0.000086  0.746900  ...  0.000000e+00   \n",
            "155830  0.159058  1.050387e-02  0.000202  0.104204  ...  1.891595e-18   \n",
            "79376   0.504607  2.711126e-01  0.103721  0.702453  ...  0.000000e+00   \n",
            "...          ...           ...       ...       ...  ...           ...   \n",
            "121943  0.566470  6.081879e-03  0.000099  0.510043  ...  0.000000e+00   \n",
            "108721  0.000000  4.857226e-17  0.000000  0.000000  ...  0.000000e+00   \n",
            "19978   0.000000  4.857226e-17  0.000000  0.000000  ...  0.000000e+00   \n",
            "134085  0.528383  7.918973e-03  0.000071  0.719066  ...  0.000000e+00   \n",
            "66829   0.650828  1.076518e-02  0.000632  0.762182  ...  0.000000e+00   \n",
            "\n",
            "             106       107       108           109           110  \\\n",
            "83964   0.455462  0.365724  0.000000  2.081668e-17  0.000000e+00   \n",
            "154745  0.455462  0.365724  0.000000  9.929078e-03  0.000000e+00   \n",
            "23793   0.455462  0.365724  0.000000  9.929078e-03  0.000000e+00   \n",
            "155830  0.455462  0.365724  0.000033  9.929078e-03  1.400400e-09   \n",
            "79376   0.455462  0.365724  0.000000  3.588652e-01  0.000000e+00   \n",
            "...          ...       ...       ...           ...           ...   \n",
            "121943  0.455462  0.365724  0.000000  9.929078e-03  0.000000e+00   \n",
            "108721  0.455462  0.365724  0.000000  2.081668e-17  0.000000e+00   \n",
            "19978   0.455462  0.365724  0.000000  2.081668e-17  0.000000e+00   \n",
            "134085  0.455462  0.365724  0.000000  9.929078e-03  0.000000e+00   \n",
            "66829   0.455462  0.365724  0.000000  9.929078e-03  0.000000e+00   \n",
            "\n",
            "                 111           112       113       114  \n",
            "83964   6.938894e-18  0.000000e+00  0.447998  0.445605  \n",
            "154745  9.929078e-03  0.000000e+00  0.447998  0.445605  \n",
            "23793   9.929078e-03  0.000000e+00  0.447998  0.445605  \n",
            "155830  9.929078e-03  1.897275e-18  0.447998  0.445605  \n",
            "79376   3.588652e-01  0.000000e+00  0.447998  0.445605  \n",
            "...              ...           ...       ...       ...  \n",
            "121943  9.929078e-03  0.000000e+00  0.447998  0.445605  \n",
            "108721  6.938894e-18  0.000000e+00  0.447998  0.445605  \n",
            "19978   6.938894e-18  0.000000e+00  0.447998  0.445605  \n",
            "134085  9.929078e-03  0.000000e+00  0.447998  0.445605  \n",
            "66829   9.929078e-03  0.000000e+00  0.447998  0.445605  \n",
            "\n",
            "[114417 rows x 115 columns]              0         1             2         3         4             5    \\\n",
            "100402  0.344416  0.009020  3.676176e-05  0.420236  0.008919  4.136401e-05   \n",
            "71612   0.324470  0.006767  8.770328e-05  0.403486  0.007195  8.344906e-05   \n",
            "46425   0.319930  0.005703  1.002570e-04  0.417390  0.006108  9.992201e-05   \n",
            "159136  0.393789  0.009787  1.028432e-05  0.526174  0.009377  2.613879e-05   \n",
            "94182   0.224731  0.189457  1.234881e-01  0.278516  0.209048  1.233865e-01   \n",
            "...          ...       ...           ...       ...       ...           ...   \n",
            "90752   0.149327  0.010235  1.640974e-04  0.230443  0.010399  3.359885e-04   \n",
            "55278   0.485779  0.006273  9.351321e-05  0.558818  0.006763  9.023483e-05   \n",
            "143599  0.374689  0.010068  2.852563e-05  0.412428  0.010224  3.535341e-04   \n",
            "113358  0.329679  0.010166  7.623565e-06  0.453490  0.010141  5.100168e-06   \n",
            "136943  0.287335  0.010045  3.261155e-07  0.372605  0.010053  6.047258e-07   \n",
            "\n",
            "             6         7         8         9    ...  105       106       107  \\\n",
            "100402  0.549003  0.008419  0.000059  0.475996  ...  0.0  0.455462  0.365724   \n",
            "71612   0.557824  0.007158  0.000085  0.738543  ...  0.0  0.455462  0.365724   \n",
            "46425   0.578025  0.007253  0.000085  0.721064  ...  0.0  0.455462  0.365724   \n",
            "159136  0.795830  0.008753  0.000050  0.943085  ...  0.0  0.455462  0.365724   \n",
            "94182   0.401370  0.211531  0.123285  0.555980  ...  0.0  0.455462  0.365724   \n",
            "...          ...       ...       ...       ...  ...  ...       ...       ...   \n",
            "90752   0.454043  0.010503  0.000318  0.836275  ...  0.0  0.455462  0.365724   \n",
            "55278   0.663073  0.007536  0.000079  0.772815  ...  0.0  0.455462  0.365724   \n",
            "143599  0.400166  0.011757  0.003659  0.723311  ...  0.0  0.455462  0.365724   \n",
            "113358  0.673944  0.010234  0.000005  0.770400  ...  0.0  0.455462  0.365724   \n",
            "136943  0.521998  0.010161  0.000001  0.714913  ...  0.0  0.455462  0.365724   \n",
            "\n",
            "             108           109  110           111  112       113       114  \n",
            "100402  0.000000  9.929078e-03  0.0  9.929078e-03  0.0  0.447998  0.445605  \n",
            "71612   0.000000  2.081668e-17  0.0  6.938894e-18  0.0  0.447998  0.445605  \n",
            "46425   0.000000  9.929078e-03  0.0  9.929078e-03  0.0  0.447998  0.445605  \n",
            "159136  0.000000  9.929078e-03  0.0  9.929078e-03  0.0  0.447998  0.445605  \n",
            "94182   0.000000  2.081668e-17  0.0  6.938894e-18  0.0  0.447998  0.445605  \n",
            "...          ...           ...  ...           ...  ...       ...       ...  \n",
            "90752   0.000023  9.929078e-03  0.0  2.501280e-02  0.0  0.447998  0.445605  \n",
            "55278   0.000000  2.081668e-17  0.0  6.938894e-18  0.0  0.447998  0.445605  \n",
            "143599  0.000000  9.929078e-03  0.0  9.929078e-03  0.0  0.447998  0.445605  \n",
            "113358  0.000000  9.929078e-03  0.0  9.929078e-03  0.0  0.447998  0.445605  \n",
            "136943  0.000000  9.929078e-03  0.0  9.929078e-03  0.0  0.447998  0.445605  \n",
            "\n",
            "[49037 rows x 115 columns] 36893     1\n",
            "87345     1\n",
            "35407     1\n",
            "115066    1\n",
            "179954    1\n",
            "         ..\n",
            "107486    1\n",
            "134894    1\n",
            "3608      1\n",
            "82902     1\n",
            "36359     1\n",
            "Name: type, Length: 114417, dtype: int64 124236    1\n",
            "146545    1\n",
            "212724    1\n",
            "82815     1\n",
            "230371    1\n",
            "         ..\n",
            "82162     1\n",
            "98308     1\n",
            "34674     1\n",
            "141227    1\n",
            "121727    1\n",
            "Name: type, Length: 49037, dtype: int64\n",
            "(114417, 115) (49037, 115) (114417,) (49037,)\n",
            "(114417, 115)\n",
            "(49037, 115)\n",
            "(114417,)\n",
            "(49037,)\n",
            "client co-ordinates\n",
            "             0         1             2         3         4         5    \\\n",
            "152702  0.187590  0.000246  9.171047e-06  0.221201  0.001126  0.000040   \n",
            "149875  0.300791  0.104089  1.028880e-01  0.345467  0.139639  0.121547   \n",
            "120897  0.002288  0.193883  8.886586e-17  0.001793  0.194166  0.000000   \n",
            "136322  0.250720  0.009386  2.558757e-05  0.346085  0.008726  0.000049   \n",
            "117391  0.369591  0.010227  1.963435e-04  0.479074  0.010341  0.000324   \n",
            "...          ...       ...           ...       ...       ...       ...   \n",
            "56840   0.168983  0.230265  1.124308e-01  0.246998  0.218364  0.120272   \n",
            "144505  0.420103  0.010100  3.202640e-06  0.533850  0.010111  0.000003   \n",
            "23080   0.343815  0.010056  7.108078e-07  0.462278  0.010066  0.000002   \n",
            "13535   0.345220  0.234535  1.111757e-01  0.439819  0.235647  0.113782   \n",
            "140661  0.434332  0.010069  3.943571e-06  0.545729  0.010123  0.000083   \n",
            "\n",
            "             6         7             8         9    ...           105  \\\n",
            "152702  0.312870  0.004638  1.012818e-04  0.436744  ...  0.000000e+00   \n",
            "149875  0.438010  0.183269  1.272083e-01  0.563091  ...  0.000000e+00   \n",
            "120897  0.000844  0.196512  2.690767e-11  0.000258  ...  3.036553e-17   \n",
            "136322  0.555833  0.008161  6.907406e-05  0.694894  ...  0.000000e+00   \n",
            "117391  0.580865  0.010859  1.247238e-03  0.595247  ...  0.000000e+00   \n",
            "...          ...       ...           ...       ...  ...           ...   \n",
            "56840   0.392744  0.228426  1.176481e-01  0.615185  ...  6.053105e-16   \n",
            "144505  0.727807  0.010236  2.885295e-05  0.812667  ...  0.000000e+00   \n",
            "23080   0.681686  0.010182  2.744967e-06  0.624275  ...  0.000000e+00   \n",
            "13535   0.523584  0.244295  1.108631e-01  0.617328  ...  1.210621e-16   \n",
            "140661  0.725289  0.010804  1.393623e-03  0.824527  ...  0.000000e+00   \n",
            "\n",
            "             106       107       108           109           110  \\\n",
            "152702  0.455462  0.365724  0.000000  2.081668e-17  0.000000e+00   \n",
            "149875  0.455462  0.365724  0.000000  2.081668e-17  0.000000e+00   \n",
            "120897  0.455462  0.365724  0.000176  1.914894e-01  5.594704e-09   \n",
            "136322  0.455462  0.365724  0.000000  9.929078e-03  0.000000e+00   \n",
            "117391  0.455462  0.365724  0.000000  9.929078e-03  0.000000e+00   \n",
            "...          ...       ...       ...           ...           ...   \n",
            "56840   0.455462  0.365724  0.994883  3.503546e-01  6.721921e-08   \n",
            "144505  0.455462  0.365724  0.000000  9.929078e-03  0.000000e+00   \n",
            "23080   0.455462  0.365724  0.000000  9.929078e-03  0.000000e+00   \n",
            "13535   0.455462  0.365724  0.925556  3.503546e-01  8.232639e-08   \n",
            "140661  0.455462  0.365724  0.000000  9.929078e-03  0.000000e+00   \n",
            "\n",
            "                 111           112       113       114  \n",
            "152702  6.938894e-18  0.000000e+00  0.447998  0.445605  \n",
            "149875  6.938894e-18  0.000000e+00  0.447998  0.445605  \n",
            "120897  2.634684e-01  4.297316e-17  0.447998  0.445605  \n",
            "136322  9.929078e-03  0.000000e+00  0.447998  0.445605  \n",
            "117391  9.929078e-03  0.000000e+00  0.447998  0.445605  \n",
            "...              ...           ...       ...       ...  \n",
            "56840   3.503546e-01  4.371321e-15  0.447998  0.445605  \n",
            "144505  9.929078e-03  0.000000e+00  0.447998  0.445605  \n",
            "23080   9.929078e-03  0.000000e+00  0.447998  0.445605  \n",
            "13535   3.503546e-01  6.556982e-15  0.447998  0.445605  \n",
            "140661  9.929078e-03  0.000000e+00  0.447998  0.445605  \n",
            "\n",
            "[114417 rows x 115 columns]              0             1         2         3             4         5    \\\n",
            "17627   0.020413  1.078985e-02  0.000048  0.027884  1.076386e-02  0.000047   \n",
            "117857  0.406818  9.073245e-03  0.000035  0.534685  9.058215e-03  0.000037   \n",
            "89428   0.381055  5.335506e-03  0.000099  0.484315  6.153441e-03  0.000097   \n",
            "14990   0.124343  1.028830e-02  0.000016  0.150781  1.025911e-02  0.000013   \n",
            "133824  0.000000  4.857226e-17  0.000000  0.000000  5.551115e-17  0.000000   \n",
            "...          ...           ...       ...       ...           ...       ...   \n",
            "40533   0.388665  7.301609e-03  0.000079  0.483596  7.687200e-03  0.000074   \n",
            "95142   0.450151  1.012349e-02  0.000005  0.556541  1.012214e-02  0.000004   \n",
            "110344  0.168580  3.455581e-01  0.024248  0.267576  3.222286e-01  0.054184   \n",
            "98469   0.426810  4.946255e-03  0.000100  0.493925  6.152286e-03  0.000097   \n",
            "60302   0.351454  5.807134e-03  0.000097  0.443178  5.878676e-03  0.000099   \n",
            "\n",
            "             6             7         8         9    ...  105       106  \\\n",
            "17627   0.051686  1.065398e-02  0.000033  0.076750  ...  0.0  0.455462   \n",
            "117857  0.770006  8.665552e-03  0.000052  0.911405  ...  0.0  0.455462   \n",
            "89428   0.669108  7.510474e-03  0.000079  0.790669  ...  0.0  0.455462   \n",
            "14990   0.158031  1.041423e-02  0.000143  0.103724  ...  0.0  0.455462   \n",
            "133824  0.000000  4.857226e-17  0.000000  0.000000  ...  0.0  0.455462   \n",
            "...          ...           ...       ...       ...  ...  ...       ...   \n",
            "40533   0.625181  7.964405e-03  0.000070  0.765850  ...  0.0  0.455462   \n",
            "95142   0.738561  1.024670e-02  0.000019  0.744203  ...  0.0  0.455462   \n",
            "110344  0.479000  2.924872e-01  0.087288  0.709191  ...  0.0  0.455462   \n",
            "98469   0.641298  7.561580e-03  0.000078  0.781393  ...  0.0  0.455462   \n",
            "60302   0.581296  6.359730e-03  0.000096  0.747098  ...  0.0  0.455462   \n",
            "\n",
            "             107       108           109  110           111  112       113  \\\n",
            "17627   0.365724  0.000000  9.929078e-03  0.0  9.929078e-03  0.0  0.447998   \n",
            "117857  0.365724  0.000000  9.929078e-03  0.0  9.929078e-03  0.0  0.447998   \n",
            "89428   0.365724  0.000000  9.929078e-03  0.0  9.929078e-03  0.0  0.447998   \n",
            "14990   0.365724  0.000033  9.929078e-03  0.0  9.929078e-03  0.0  0.447998   \n",
            "133824  0.365724  0.000000  2.081668e-17  0.0  6.938894e-18  0.0  0.447998   \n",
            "...          ...       ...           ...  ...           ...  ...       ...   \n",
            "40533   0.365724  0.000000  9.929078e-03  0.0  9.929078e-03  0.0  0.447998   \n",
            "95142   0.365724  0.000000  9.929078e-03  0.0  9.929078e-03  0.0  0.447998   \n",
            "110344  0.365724  0.000000  3.588652e-01  0.0  3.588652e-01  0.0  0.447998   \n",
            "98469   0.365724  0.000000  2.081668e-17  0.0  6.938894e-18  0.0  0.447998   \n",
            "60302   0.365724  0.000000  9.929078e-03  0.0  9.929078e-03  0.0  0.447998   \n",
            "\n",
            "             114  \n",
            "17627   0.445605  \n",
            "117857  0.445605  \n",
            "89428   0.445605  \n",
            "14990   0.445605  \n",
            "133824  0.445605  \n",
            "...          ...  \n",
            "40533   0.445605  \n",
            "95142   0.445605  \n",
            "110344  0.445605  \n",
            "98469   0.445605  \n",
            "60302   0.445605  \n",
            "\n",
            "[49037 rows x 115 columns] 99650     1\n",
            "184225    1\n",
            "28895     0\n",
            "215266    1\n",
            "11231     1\n",
            "         ..\n",
            "81450     1\n",
            "71940     1\n",
            "54060     1\n",
            "88786     1\n",
            "29626     1\n",
            "Name: type, Length: 114417, dtype: int64 93659     1\n",
            "99238     1\n",
            "137706    1\n",
            "136168    1\n",
            "17401     1\n",
            "         ..\n",
            "64038     1\n",
            "10610     1\n",
            "97282     1\n",
            "87684     1\n",
            "209983    1\n",
            "Name: type, Length: 49037, dtype: int64\n",
            "(114417, 115) (49037, 115) (114417,) (49037,)\n",
            "clients testing values\n",
            "(294222, 115)\n",
            "(294222,)\n"
          ]
        }
      ]
    },
    {
      "cell_type": "code",
      "source": [
        "from sklearn.metrics import classification_report, confusion_matrix, roc_curve, auc\n",
        "import matplotlib.pyplot as plt\n",
        "import numpy as np\n",
        "\n",
        "\n",
        "def evaluate_global_model(global_model, X_server_test, y_server_test, X_clients_test, y_clients_test):\n",
        "\n",
        "      combined_X_test = np.concatenate([X_server_test, X_clients_test])\n",
        "      combined_y_test = np.concatenate([y_server_test, y_clients_test])\n",
        "      #combined_y_test = combined_y_test.reshape(-1)\n",
        "\n",
        "      y_true =[]\n",
        "      y_pred =[]\n",
        "      y_score = []\n",
        "\n",
        "\n",
        "      y_pred = global_model.predict(combined_X_test)\n",
        "      y_true = combined_y_test\n",
        "      y_score = global_model.predict_proba(combined_X_test)[:, 1]\n",
        "\n",
        "      cm = confusion_matrix(y_true, y_pred)\n",
        "      tn, fp, fn, tp = cm.ravel()\n",
        "\n",
        "      accuracy = (accuracy_score(y_true, y_pred)*100)\n",
        "      report = classification_report(y_true, y_pred)\n",
        "      fpr, tpr, _ = roc_curve(y_true, y_score)\n",
        "      roc_auc = auc(fpr, tpr)\n",
        "\n",
        "      print(\"Classification Report:\")\n",
        "      print(report)\n",
        "      print(\"Confusion Matrix:\")\n",
        "      print(cm)\n",
        "\n",
        "\n",
        "      #plotting curve\n",
        "      plt.figure()\n",
        "      plt.plot(fpr, tpr, color='darkorange', lw=2, label='ROC curve (area = %0.2f)' % roc_auc)\n",
        "      plt.plot([0,1], [0, 1], color='navy', lw=2, linestyle='--')\n",
        "      plt.xlim([0.0, 1.0])\n",
        "      plt.ylim([0.0, 1.05])\n",
        "      plt.xlabel('False Positive Rate')\n",
        "      plt.ylabel('True Positive Rate')\n",
        "      plt.title('Receiver Operating Characteristic')\n",
        "      plt.legend(loc=\"lower right\")\n",
        "      plt.show()\n",
        "\n",
        "      np.save('/content/gdrive/MyDrive/N-BaIoT/stacking_accuracy.npy',accuracy)\n",
        "      np.save('/content/gdrive/MyDrive/N-BaIoT/stacking_report.npy',report)\n",
        "      np.save('/content/gdrive/MyDrive/N-BaIoT/stacking_cm.npy',cm)\n",
        "      np.save('/content/gdrive/MyDrive/N-BaIoT/stacking_roc_auc.npy',roc_auc)\n",
        "\n",
        "      return accuracy, report, cm, roc_auc"
      ],
      "metadata": {
        "id": "oym7V-MXITTf"
      },
      "execution_count": 7,
      "outputs": []
    },
    {
      "cell_type": "code",
      "execution_count": 15,
      "metadata": {
        "id": "6JbY0qYKO2UY"
      },
      "outputs": [],
      "source": [
        "import flwr as fl\n",
        "import pandas as pd\n",
        "from sklearn.metrics import accuracy_score, log_loss\n",
        "from flwr.common import Context\n",
        "#from Utils import create_model, get_model_params, set_model_params, sampling, load_data, split_features_labels\n",
        "\n",
        "class IoTClient(fl.client.NumPyClient):\n",
        "    def __init__(self, cid, model, X_train, X_test, y_train, y_test):\n",
        "        self.model = model\n",
        "        self.cid = cid\n",
        "        self.train_data = X_train\n",
        "        self.test_data = X_test\n",
        "        self.train_labels = y_train\n",
        "        self.test_labels = y_test\n",
        "        print(f\"Entered client {cid} function\")\n",
        "        self.model.fit(self.train_data, self.train_labels)\n",
        "\n",
        "    def get_parameters(self, config=None):\n",
        "        return get_model_params(self.model)\n",
        "\n",
        "    def fit(self, parameters, config):\n",
        "        print(\"training model\")\n",
        "        set_model_params(self.model, parameters)\n",
        "        self.model.fit(self.train_data, self.train_labels)\n",
        "        return get_model_params(self.model), len(self.train_labels),{}\n",
        "\n",
        "    def evaluate(self, parameters, config):\n",
        "        print(f\"Evaluating model for client {self.cid}\")\n",
        "        set_model_params(self.model, parameters)\n",
        "        y_pred = self.model.predict(self.test_data)\n",
        "        loss = log_loss(self.test_labels, y_pred)\n",
        "        accuracy = accuracy_score(self.test_labels, y_pred)\n",
        "        print(\"Loss:\", loss)\n",
        "        print(\"Accuracy:\", accuracy*100)\n",
        "        return float(loss), len(self.test_labels), {\"loss\": float(loss), \"accuracy\": float(accuracy)}\n",
        "\n",
        "def client_fn(cid : str) -> fl.client.Client:\n",
        "\n",
        "  cid = int(cid)\n",
        "  print(f\"Entered client {cid} function\")\n",
        "  model = create_model()\n",
        "  X_train, X_test, y_train, y_test = client_train_test_data[cid]\n",
        "  #if len(np.unique(y_train))>1:\n",
        "  return IoTClient(cid, model, X_train, X_test, y_train, y_test).to_client()\n",
        "\n"
      ]
    },
    {
      "cell_type": "code",
      "source": [
        "global_model = create_model()\n",
        "start_time = time.time()\n",
        "global_model.fit(X_server_train, y_server_train)"
      ],
      "metadata": {
        "colab": {
          "base_uri": "https://localhost:8080/",
          "height": 179
        },
        "id": "fPUVWh03uTmF",
        "outputId": "96522479-b5fd-43bb-c7c4-00bc91623fd5"
      },
      "execution_count": 12,
      "outputs": [
        {
          "output_type": "stream",
          "name": "stdout",
          "text": [
            "model created\n"
          ]
        },
        {
          "output_type": "execute_result",
          "data": {
            "text/plain": [
              "StackingClassifier(estimators=[('SVM model',\n",
              "                                LinearSVC(class_weight='balanced', dual='auto',\n",
              "                                          max_iter=10000, random_state=42)),\n",
              "                               ('logistic regression',\n",
              "                                LogisticRegression(class_weight='balanced',\n",
              "                                                   max_iter=1000,\n",
              "                                                   random_state=42))],\n",
              "                   final_estimator=RandomForestClassifier())"
            ],
            "text/html": [
              "<style>#sk-container-id-2 {color: black;}#sk-container-id-2 pre{padding: 0;}#sk-container-id-2 div.sk-toggleable {background-color: white;}#sk-container-id-2 label.sk-toggleable__label {cursor: pointer;display: block;width: 100%;margin-bottom: 0;padding: 0.3em;box-sizing: border-box;text-align: center;}#sk-container-id-2 label.sk-toggleable__label-arrow:before {content: \"▸\";float: left;margin-right: 0.25em;color: #696969;}#sk-container-id-2 label.sk-toggleable__label-arrow:hover:before {color: black;}#sk-container-id-2 div.sk-estimator:hover label.sk-toggleable__label-arrow:before {color: black;}#sk-container-id-2 div.sk-toggleable__content {max-height: 0;max-width: 0;overflow: hidden;text-align: left;background-color: #f0f8ff;}#sk-container-id-2 div.sk-toggleable__content pre {margin: 0.2em;color: black;border-radius: 0.25em;background-color: #f0f8ff;}#sk-container-id-2 input.sk-toggleable__control:checked~div.sk-toggleable__content {max-height: 200px;max-width: 100%;overflow: auto;}#sk-container-id-2 input.sk-toggleable__control:checked~label.sk-toggleable__label-arrow:before {content: \"▾\";}#sk-container-id-2 div.sk-estimator input.sk-toggleable__control:checked~label.sk-toggleable__label {background-color: #d4ebff;}#sk-container-id-2 div.sk-label input.sk-toggleable__control:checked~label.sk-toggleable__label {background-color: #d4ebff;}#sk-container-id-2 input.sk-hidden--visually {border: 0;clip: rect(1px 1px 1px 1px);clip: rect(1px, 1px, 1px, 1px);height: 1px;margin: -1px;overflow: hidden;padding: 0;position: absolute;width: 1px;}#sk-container-id-2 div.sk-estimator {font-family: monospace;background-color: #f0f8ff;border: 1px dotted black;border-radius: 0.25em;box-sizing: border-box;margin-bottom: 0.5em;}#sk-container-id-2 div.sk-estimator:hover {background-color: #d4ebff;}#sk-container-id-2 div.sk-parallel-item::after {content: \"\";width: 100%;border-bottom: 1px solid gray;flex-grow: 1;}#sk-container-id-2 div.sk-label:hover label.sk-toggleable__label {background-color: #d4ebff;}#sk-container-id-2 div.sk-serial::before {content: \"\";position: absolute;border-left: 1px solid gray;box-sizing: border-box;top: 0;bottom: 0;left: 50%;z-index: 0;}#sk-container-id-2 div.sk-serial {display: flex;flex-direction: column;align-items: center;background-color: white;padding-right: 0.2em;padding-left: 0.2em;position: relative;}#sk-container-id-2 div.sk-item {position: relative;z-index: 1;}#sk-container-id-2 div.sk-parallel {display: flex;align-items: stretch;justify-content: center;background-color: white;position: relative;}#sk-container-id-2 div.sk-item::before, #sk-container-id-2 div.sk-parallel-item::before {content: \"\";position: absolute;border-left: 1px solid gray;box-sizing: border-box;top: 0;bottom: 0;left: 50%;z-index: -1;}#sk-container-id-2 div.sk-parallel-item {display: flex;flex-direction: column;z-index: 1;position: relative;background-color: white;}#sk-container-id-2 div.sk-parallel-item:first-child::after {align-self: flex-end;width: 50%;}#sk-container-id-2 div.sk-parallel-item:last-child::after {align-self: flex-start;width: 50%;}#sk-container-id-2 div.sk-parallel-item:only-child::after {width: 0;}#sk-container-id-2 div.sk-dashed-wrapped {border: 1px dashed gray;margin: 0 0.4em 0.5em 0.4em;box-sizing: border-box;padding-bottom: 0.4em;background-color: white;}#sk-container-id-2 div.sk-label label {font-family: monospace;font-weight: bold;display: inline-block;line-height: 1.2em;}#sk-container-id-2 div.sk-label-container {text-align: center;}#sk-container-id-2 div.sk-container {/* jupyter's `normalize.less` sets `[hidden] { display: none; }` but bootstrap.min.css set `[hidden] { display: none !important; }` so we also need the `!important` here to be able to override the default hidden behavior on the sphinx rendered scikit-learn.org. See: https://github.com/scikit-learn/scikit-learn/issues/21755 */display: inline-block !important;position: relative;}#sk-container-id-2 div.sk-text-repr-fallback {display: none;}</style><div id=\"sk-container-id-2\" class=\"sk-top-container\"><div class=\"sk-text-repr-fallback\"><pre>StackingClassifier(estimators=[(&#x27;SVM model&#x27;,\n",
              "                                LinearSVC(class_weight=&#x27;balanced&#x27;, dual=&#x27;auto&#x27;,\n",
              "                                          max_iter=10000, random_state=42)),\n",
              "                               (&#x27;logistic regression&#x27;,\n",
              "                                LogisticRegression(class_weight=&#x27;balanced&#x27;,\n",
              "                                                   max_iter=1000,\n",
              "                                                   random_state=42))],\n",
              "                   final_estimator=RandomForestClassifier())</pre><b>In a Jupyter environment, please rerun this cell to show the HTML representation or trust the notebook. <br />On GitHub, the HTML representation is unable to render, please try loading this page with nbviewer.org.</b></div><div class=\"sk-container\" hidden><div class=\"sk-item sk-dashed-wrapped\"><div class=\"sk-label-container\"><div class=\"sk-label sk-toggleable\"><input class=\"sk-toggleable__control sk-hidden--visually\" id=\"sk-estimator-id-5\" type=\"checkbox\" ><label for=\"sk-estimator-id-5\" class=\"sk-toggleable__label sk-toggleable__label-arrow\">StackingClassifier</label><div class=\"sk-toggleable__content\"><pre>StackingClassifier(estimators=[(&#x27;SVM model&#x27;,\n",
              "                                LinearSVC(class_weight=&#x27;balanced&#x27;, dual=&#x27;auto&#x27;,\n",
              "                                          max_iter=10000, random_state=42)),\n",
              "                               (&#x27;logistic regression&#x27;,\n",
              "                                LogisticRegression(class_weight=&#x27;balanced&#x27;,\n",
              "                                                   max_iter=1000,\n",
              "                                                   random_state=42))],\n",
              "                   final_estimator=RandomForestClassifier())</pre></div></div></div><div class=\"sk-serial\"><div class=\"sk-item\"><div class=\"sk-parallel\"><div class=\"sk-parallel-item\"><div class=\"sk-item\"><div class=\"sk-label-container\"><div class=\"sk-label sk-toggleable\"><label>SVM model</label></div></div><div class=\"sk-serial\"><div class=\"sk-item\"><div class=\"sk-estimator sk-toggleable\"><input class=\"sk-toggleable__control sk-hidden--visually\" id=\"sk-estimator-id-6\" type=\"checkbox\" ><label for=\"sk-estimator-id-6\" class=\"sk-toggleable__label sk-toggleable__label-arrow\">LinearSVC</label><div class=\"sk-toggleable__content\"><pre>LinearSVC(class_weight=&#x27;balanced&#x27;, dual=&#x27;auto&#x27;, max_iter=10000, random_state=42)</pre></div></div></div></div></div></div><div class=\"sk-parallel-item\"><div class=\"sk-item\"><div class=\"sk-label-container\"><div class=\"sk-label sk-toggleable\"><label>logistic regression</label></div></div><div class=\"sk-serial\"><div class=\"sk-item\"><div class=\"sk-estimator sk-toggleable\"><input class=\"sk-toggleable__control sk-hidden--visually\" id=\"sk-estimator-id-7\" type=\"checkbox\" ><label for=\"sk-estimator-id-7\" class=\"sk-toggleable__label sk-toggleable__label-arrow\">LogisticRegression</label><div class=\"sk-toggleable__content\"><pre>LogisticRegression(class_weight=&#x27;balanced&#x27;, max_iter=1000, random_state=42)</pre></div></div></div></div></div></div></div></div><div class=\"sk-item\"><div class=\"sk-parallel\"><div class=\"sk-parallel-item\"><div class=\"sk-item\"><div class=\"sk-label-container\"><div class=\"sk-label sk-toggleable\"><label>final_estimator</label></div></div><div class=\"sk-serial\"><div class=\"sk-item\"><div class=\"sk-estimator sk-toggleable\"><input class=\"sk-toggleable__control sk-hidden--visually\" id=\"sk-estimator-id-8\" type=\"checkbox\" ><label for=\"sk-estimator-id-8\" class=\"sk-toggleable__label sk-toggleable__label-arrow\">RandomForestClassifier</label><div class=\"sk-toggleable__content\"><pre>RandomForestClassifier()</pre></div></div></div></div></div></div></div></div></div></div></div></div>"
            ]
          },
          "metadata": {},
          "execution_count": 12
        }
      ]
    },
    {
      "cell_type": "code",
      "execution_count": 13,
      "metadata": {
        "id": "LBay6GqZQIBx"
      },
      "outputs": [],
      "source": [
        "import flwr as fl\n",
        "import pandas as pd\n",
        "import numpy as np\n",
        "from sklearn.metrics import classification_report, confusion_matrix\n",
        "#from Utils import load_data, split_features_labels, sampling, create_model, get_model_params\n",
        "#from Client import client_fn\n",
        "from typing import Callable, Dict, List, Tuple\n",
        "import torch\n",
        "from flwr.common import Parameters, NDArrays\n",
        "import random\n",
        "from sklearn.metrics import accuracy_score, log_loss\n",
        "from flwr.server.client_manager import ClientManager\n",
        "from flwr.server.client_proxy import ClientProxy\n",
        "import time\n",
        "\n",
        "def fit_round(rnd: int):\n",
        "    return {\"num_clients\": 3}\n",
        "\n",
        "def evaluate_round(rnd: int):\n",
        "    return {\"num_clients\": 3}\n",
        "\n",
        "def get_on_fit_config_fn() -> Callable[[int], Dict[str, str]]:\n",
        "  def fit_config(server_rnd: int) -> Dict[str, str]:\n",
        "    config = {\n",
        "      \"learning_rate\": str(0.001 * (0.9 ** server_rnd)),\n",
        "      \"batch_size\": str(32 * (0.9 ** server_rnd)),\n",
        "      \"epochs\": str(1)\n",
        "    }\n",
        "    return config\n",
        "  return fit_config\n",
        "\n",
        "\n",
        "\n",
        "def calculate_federated_learning_time(start_time, end_time):\n",
        "\n",
        "  total_time = end_time - start_time\n",
        "  return total_time\n",
        "\n",
        "\n",
        "\n",
        "\n",
        "def get_evaluate_fn(model, X_server_test, y_server_test, X_clients_test, y_clients_test):\n",
        "  def evaluate(server_round: int, parameters: Parameters, config: Dict[str, str]) -> Tuple[float, Dict[str, float]]:\n",
        "    if server_round < 5:\n",
        "            return 0.0, {\"loss\": 0.0, \"accuracy\": 0.0}\n",
        "      #y_pred = model.predict(X_test_global)\n",
        "    elif server_round == 5:\n",
        "        set_model_params(model, parameters)\n",
        "        accuracy, report, cm, roc_auc = evaluate_global_model(model, X_server_test, y_server_test, X_clients_test, y_clients_test)\n",
        "        #accuracy = accuracy_score(final_y_test, model.predict(final_X_test))\n",
        "    return 0.0, {\"accuracy\": accuracy, \"loss\": 0.0, \"report\": report, \"confusion_matrix\": cm, \"roc_auc\": roc_auc}\n",
        "  return evaluate\n",
        "\n",
        "\n",
        "\n",
        "\n",
        "\n",
        "def start_server():\n",
        "\n",
        "\n",
        "    initial_parameters = get_model_params(global_model)\n",
        "\n",
        "\n",
        "    strategy = fl.server.strategy.FedAvg(\n",
        "        #num_clients=3,\n",
        "        fraction_fit=0.5,\n",
        "        min_fit_clients=3,\n",
        "        min_available_clients =6,\n",
        "        min_evaluate_clients=3,\n",
        "        fraction_evaluate=0.5,\n",
        "        on_fit_config_fn=get_on_fit_config_fn(),\n",
        "        evaluate_fn=get_evaluate_fn(global_model, X_server_test, y_server_test, X_clients_test, y_clients_test),\n",
        "        initial_parameters=fl.common.ndarrays_to_parameters(initial_parameters)\n",
        "\n",
        "    )\n",
        "\n",
        "\n",
        "    fl.simulation.start_simulation(\n",
        "        client_fn=client_fn,\n",
        "        num_clients=6,\n",
        "        config=fl.server.ServerConfig(num_rounds=5),\n",
        "        strategy=strategy,\n",
        "        client_resources={\"num_cpus\": 1, \"num_gpus\": 0},\n",
        "        ray_init_args={\"ignore_reinit_error\": True, \"num_cpus\": 6},\n",
        "    )\n",
        "\n",
        "end_time = time.time()\n",
        "    #evaluate_fn=get_evaluate_fn(global_model, final_X_test, final_y_test, X_test_global, y_test_global),\n",
        "\n",
        "\n",
        "\n",
        "\n",
        "\n"
      ]
    },
    {
      "cell_type": "code",
      "execution_count": 16,
      "metadata": {
        "colab": {
          "base_uri": "https://localhost:8080/",
          "height": 1000
        },
        "id": "_MZICt10AFE1",
        "outputId": "03340880-b031-45c2-997a-3a127fbbcdc5"
      },
      "outputs": [
        {
          "metadata": {
            "tags": null
          },
          "name": "stderr",
          "output_type": "stream",
          "text": [
            "\u001b[92mINFO \u001b[0m:      Starting Flower simulation, config: num_rounds=5, no round_timeout\n",
            "/usr/lib/python3.10/subprocess.py:1796: RuntimeWarning: os.fork() was called. os.fork() is incompatible with multithreaded code, and JAX is multithreaded, so this will likely lead to a deadlock.\n",
            "  self.pid = _posixsubprocess.fork_exec(\n",
            "2024-08-09 06:20:29,616\tINFO worker.py:1752 -- Started a local Ray instance.\n",
            "\u001b[92mINFO \u001b[0m:      Flower VCE: Ray initialized with resources: {'object_store_memory': 16959777177.0, 'node:__internal_head__': 1.0, 'accelerator_type:L4': 1.0, 'node:172.28.0.12': 1.0, 'GPU': 1.0, 'CPU': 6.0, 'memory': 33919554356.0}\n",
            "\u001b[92mINFO \u001b[0m:      Optimize your simulation with Flower VCE: https://flower.ai/docs/framework/how-to-run-simulations.html\n",
            "\u001b[92mINFO \u001b[0m:      Flower VCE: Resources for each Virtual Client: {'num_cpus': 1, 'num_gpus': 0}\n",
            "\u001b[92mINFO \u001b[0m:      Flower VCE: Creating VirtualClientEngineActorPool with 6 actors\n",
            "\u001b[92mINFO \u001b[0m:      [INIT]\n",
            "\u001b[92mINFO \u001b[0m:      Using initial global parameters provided by strategy\n",
            "\u001b[92mINFO \u001b[0m:      Evaluating initial global parameters\n",
            "\u001b[92mINFO \u001b[0m:      initial parameters (loss, other metrics): 0.0, {'loss': 0.0, 'accuracy': 0.0}\n",
            "\u001b[92mINFO \u001b[0m:      \n",
            "\u001b[92mINFO \u001b[0m:      [ROUND 1]\n",
            "\u001b[92mINFO \u001b[0m:      configure_fit: strategy sampled 3 clients (out of 6)\n"
          ]
        },
        {
          "metadata": {
            "tags": null
          },
          "name": "stdout",
          "output_type": "stream",
          "text": [
            "\u001b[36m(ClientAppActor pid=17220)\u001b[0m Entered client 1 function\n",
            "\u001b[36m(ClientAppActor pid=17220)\u001b[0m model created\n",
            "\u001b[36m(ClientAppActor pid=17220)\u001b[0m Entered client 1 function\n",
            "\u001b[36m(ClientAppActor pid=17219)\u001b[0m Entered client 4 function\n",
            "\u001b[36m(ClientAppActor pid=17219)\u001b[0m model created\n",
            "\u001b[36m(ClientAppActor pid=17219)\u001b[0m Entered client 4 function\n"
          ]
        },
        {
          "metadata": {
            "tags": null
          },
          "name": "stderr",
          "output_type": "stream",
          "text": [
            "\u001b[36m(ClientAppActor pid=17220)\u001b[0m \u001b[93mWARNING \u001b[0m:   DEPRECATED FEATURE: `client_fn` now expects a signature `def client_fn(context: Context)`.The provided `client_fn` has signature: {'cid': <Parameter \"cid: str\">}. You can import the `Context` like this: `from flwr.common import Context`\n",
            "\u001b[36m(ClientAppActor pid=17220)\u001b[0m \n",
            "\u001b[36m(ClientAppActor pid=17220)\u001b[0m             This is a deprecated feature. It will be removed\n",
            "\u001b[36m(ClientAppActor pid=17220)\u001b[0m             entirely in future versions of Flower.\n",
            "\u001b[36m(ClientAppActor pid=17220)\u001b[0m         \n",
            "\u001b[36m(ClientAppActor pid=17219)\u001b[0m \u001b[93mWARNING \u001b[0m:   DEPRECATED FEATURE: `client_fn` now expects a signature `def client_fn(context: Context)`.The provided `client_fn` has signature: {'cid': <Parameter \"cid: str\">}. You can import the `Context` like this: `from flwr.common import Context`\n",
            "\u001b[36m(ClientAppActor pid=17219)\u001b[0m \n",
            "\u001b[36m(ClientAppActor pid=17219)\u001b[0m             This is a deprecated feature. It will be removed\n",
            "\u001b[36m(ClientAppActor pid=17219)\u001b[0m             entirely in future versions of Flower.\n",
            "\u001b[36m(ClientAppActor pid=17219)\u001b[0m         \n"
          ]
        },
        {
          "metadata": {
            "tags": null
          },
          "name": "stdout",
          "output_type": "stream",
          "text": [
            "\u001b[36m(ClientAppActor pid=17222)\u001b[0m Entered client 5 function\n",
            "\u001b[36m(ClientAppActor pid=17222)\u001b[0m model created\n",
            "\u001b[36m(ClientAppActor pid=17222)\u001b[0m Entered client 5 function\n"
          ]
        },
        {
          "metadata": {
            "tags": null
          },
          "name": "stderr",
          "output_type": "stream",
          "text": [
            "\u001b[36m(ClientAppActor pid=17222)\u001b[0m \u001b[93mWARNING \u001b[0m:   DEPRECATED FEATURE: `client_fn` now expects a signature `def client_fn(context: Context)`.The provided `client_fn` has signature: {'cid': <Parameter \"cid: str\">}. You can import the `Context` like this: `from flwr.common import Context`\n",
            "\u001b[36m(ClientAppActor pid=17222)\u001b[0m \n",
            "\u001b[36m(ClientAppActor pid=17222)\u001b[0m             This is a deprecated feature. It will be removed\n",
            "\u001b[36m(ClientAppActor pid=17222)\u001b[0m             entirely in future versions of Flower.\n",
            "\u001b[36m(ClientAppActor pid=17222)\u001b[0m         \n"
          ]
        },
        {
          "metadata": {
            "tags": null
          },
          "name": "stdout",
          "output_type": "stream",
          "text": [
            "\u001b[36m(ClientAppActor pid=17220)\u001b[0m training model\n",
            "\u001b[36m(ClientAppActor pid=17222)\u001b[0m training model\n",
            "\u001b[36m(ClientAppActor pid=17219)\u001b[0m training model\n"
          ]
        },
        {
          "metadata": {
            "tags": null
          },
          "name": "stderr",
          "output_type": "stream",
          "text": [
            "\u001b[92mINFO \u001b[0m:      aggregate_fit: received 3 results and 0 failures\n",
            "\u001b[93mWARNING \u001b[0m:   No fit_metrics_aggregation_fn provided\n",
            "\u001b[92mINFO \u001b[0m:      fit progress: (1, 0.0, {'loss': 0.0, 'accuracy': 0.0}, 65.73193402800007)\n",
            "\u001b[92mINFO \u001b[0m:      configure_evaluate: strategy sampled 3 clients (out of 6)\n"
          ]
        },
        {
          "metadata": {
            "tags": null
          },
          "name": "stdout",
          "output_type": "stream",
          "text": [
            "\u001b[36m(ClientAppActor pid=17219)\u001b[0m Entered client 3 function\n",
            "\u001b[36m(ClientAppActor pid=17219)\u001b[0m model created\n",
            "\u001b[36m(ClientAppActor pid=17219)\u001b[0m Entered client 3 function\n"
          ]
        },
        {
          "metadata": {
            "tags": null
          },
          "name": "stderr",
          "output_type": "stream",
          "text": [
            "\u001b[36m(ClientAppActor pid=17219)\u001b[0m \u001b[93mWARNING \u001b[0m:   DEPRECATED FEATURE: `client_fn` now expects a signature `def client_fn(context: Context)`.The provided `client_fn` has signature: {'cid': <Parameter \"cid: str\">}. You can import the `Context` like this: `from flwr.common import Context`\n",
            "\u001b[36m(ClientAppActor pid=17219)\u001b[0m \n",
            "\u001b[36m(ClientAppActor pid=17219)\u001b[0m             This is a deprecated feature. It will be removed\n",
            "\u001b[36m(ClientAppActor pid=17219)\u001b[0m             entirely in future versions of Flower.\n",
            "\u001b[36m(ClientAppActor pid=17219)\u001b[0m         \n"
          ]
        },
        {
          "metadata": {
            "tags": null
          },
          "name": "stdout",
          "output_type": "stream",
          "text": [
            "\u001b[36m(ClientAppActor pid=17220)\u001b[0m Entered client 4 function\n",
            "\u001b[36m(ClientAppActor pid=17220)\u001b[0m model created\n",
            "\u001b[36m(ClientAppActor pid=17220)\u001b[0m Entered client 4 function\n"
          ]
        },
        {
          "metadata": {
            "tags": null
          },
          "name": "stderr",
          "output_type": "stream",
          "text": [
            "\u001b[36m(ClientAppActor pid=17220)\u001b[0m \u001b[93mWARNING \u001b[0m:   DEPRECATED FEATURE: `client_fn` now expects a signature `def client_fn(context: Context)`.The provided `client_fn` has signature: {'cid': <Parameter \"cid: str\">}. You can import the `Context` like this: `from flwr.common import Context`\n",
            "\u001b[36m(ClientAppActor pid=17220)\u001b[0m \n",
            "\u001b[36m(ClientAppActor pid=17220)\u001b[0m             This is a deprecated feature. It will be removed\n",
            "\u001b[36m(ClientAppActor pid=17220)\u001b[0m             entirely in future versions of Flower.\n",
            "\u001b[36m(ClientAppActor pid=17220)\u001b[0m         \n"
          ]
        },
        {
          "metadata": {
            "tags": null
          },
          "name": "stdout",
          "output_type": "stream",
          "text": [
            "\u001b[36m(ClientAppActor pid=17222)\u001b[0m Entered client 5 function\n",
            "\u001b[36m(ClientAppActor pid=17222)\u001b[0m model created\n",
            "\u001b[36m(ClientAppActor pid=17222)\u001b[0m Entered client 5 function\n"
          ]
        },
        {
          "metadata": {
            "tags": null
          },
          "name": "stderr",
          "output_type": "stream",
          "text": [
            "\u001b[36m(ClientAppActor pid=17222)\u001b[0m \u001b[93mWARNING \u001b[0m:   DEPRECATED FEATURE: `client_fn` now expects a signature `def client_fn(context: Context)`.The provided `client_fn` has signature: {'cid': <Parameter \"cid: str\">}. You can import the `Context` like this: `from flwr.common import Context`\n",
            "\u001b[36m(ClientAppActor pid=17222)\u001b[0m \n",
            "\u001b[36m(ClientAppActor pid=17222)\u001b[0m             This is a deprecated feature. It will be removed\n",
            "\u001b[36m(ClientAppActor pid=17222)\u001b[0m             entirely in future versions of Flower.\n",
            "\u001b[36m(ClientAppActor pid=17222)\u001b[0m         \n"
          ]
        },
        {
          "metadata": {
            "tags": null
          },
          "name": "stdout",
          "output_type": "stream",
          "text": [
            "\u001b[36m(ClientAppActor pid=17219)\u001b[0m Evaluating model for client 3\n",
            "\u001b[36m(ClientAppActor pid=17222)\u001b[0m Evaluating model for client 5\n",
            "\u001b[36m(ClientAppActor pid=17219)\u001b[0m Loss: 0.014700594811720822\n",
            "\u001b[36m(ClientAppActor pid=17219)\u001b[0m Accuracy: 99.95921447070579\n",
            "\u001b[36m(ClientAppActor pid=17222)\u001b[0m Loss: 0.008085327146446553\n",
            "\u001b[36m(ClientAppActor pid=17222)\u001b[0m Accuracy: 99.97756795888819\n"
          ]
        },
        {
          "metadata": {
            "tags": null
          },
          "name": "stderr",
          "output_type": "stream",
          "text": [
            "\u001b[92mINFO \u001b[0m:      aggregate_evaluate: received 3 results and 0 failures\n",
            "\u001b[93mWARNING \u001b[0m:   No evaluate_metrics_aggregation_fn provided\n",
            "\u001b[92mINFO \u001b[0m:      \n",
            "\u001b[92mINFO \u001b[0m:      [ROUND 2]\n"
          ]
        },
        {
          "metadata": {
            "tags": null
          },
          "name": "stdout",
          "output_type": "stream",
          "text": [
            "\u001b[36m(ClientAppActor pid=17220)\u001b[0m Evaluating model for client 4\n"
          ]
        },
        {
          "metadata": {
            "tags": null
          },
          "name": "stderr",
          "output_type": "stream",
          "text": [
            "\u001b[92mINFO \u001b[0m:      configure_fit: strategy sampled 3 clients (out of 6)\n"
          ]
        },
        {
          "metadata": {
            "tags": null
          },
          "name": "stdout",
          "output_type": "stream",
          "text": [
            "\u001b[36m(ClientAppActor pid=17220)\u001b[0m Loss: 0.01102544610879067\n",
            "\u001b[36m(ClientAppActor pid=17220)\u001b[0m Accuracy: 99.96941085302934\n",
            "\u001b[36m(ClientAppActor pid=17220)\u001b[0m Entered client 1 function\n",
            "\u001b[36m(ClientAppActor pid=17220)\u001b[0m model created\n",
            "\u001b[36m(ClientAppActor pid=17220)\u001b[0m Entered client 1 function\n"
          ]
        },
        {
          "metadata": {
            "tags": null
          },
          "name": "stderr",
          "output_type": "stream",
          "text": [
            "\u001b[36m(ClientAppActor pid=17220)\u001b[0m \u001b[93mWARNING \u001b[0m:   DEPRECATED FEATURE: `client_fn` now expects a signature `def client_fn(context: Context)`.The provided `client_fn` has signature: {'cid': <Parameter \"cid: str\">}. You can import the `Context` like this: `from flwr.common import Context`\n",
            "\u001b[36m(ClientAppActor pid=17220)\u001b[0m \n",
            "\u001b[36m(ClientAppActor pid=17220)\u001b[0m             This is a deprecated feature. It will be removed\n",
            "\u001b[36m(ClientAppActor pid=17220)\u001b[0m             entirely in future versions of Flower.\n",
            "\u001b[36m(ClientAppActor pid=17220)\u001b[0m         \n"
          ]
        },
        {
          "metadata": {
            "tags": null
          },
          "name": "stdout",
          "output_type": "stream",
          "text": [
            "\u001b[36m(ClientAppActor pid=17222)\u001b[0m Entered client 2 function\n",
            "\u001b[36m(ClientAppActor pid=17222)\u001b[0m model created\n",
            "\u001b[36m(ClientAppActor pid=17222)\u001b[0m Entered client 2 function\n"
          ]
        },
        {
          "metadata": {
            "tags": null
          },
          "name": "stderr",
          "output_type": "stream",
          "text": [
            "\u001b[36m(ClientAppActor pid=17222)\u001b[0m \u001b[93mWARNING \u001b[0m:   DEPRECATED FEATURE: `client_fn` now expects a signature `def client_fn(context: Context)`.The provided `client_fn` has signature: {'cid': <Parameter \"cid: str\">}. You can import the `Context` like this: `from flwr.common import Context`\n",
            "\u001b[36m(ClientAppActor pid=17222)\u001b[0m \n",
            "\u001b[36m(ClientAppActor pid=17222)\u001b[0m             This is a deprecated feature. It will be removed\n",
            "\u001b[36m(ClientAppActor pid=17222)\u001b[0m             entirely in future versions of Flower.\n",
            "\u001b[36m(ClientAppActor pid=17222)\u001b[0m         \n"
          ]
        },
        {
          "metadata": {
            "tags": null
          },
          "name": "stdout",
          "output_type": "stream",
          "text": [
            "\u001b[36m(ClientAppActor pid=17219)\u001b[0m Entered client 0 function\n",
            "\u001b[36m(ClientAppActor pid=17219)\u001b[0m model created\n",
            "\u001b[36m(ClientAppActor pid=17219)\u001b[0m Entered client 0 function\n"
          ]
        },
        {
          "metadata": {
            "tags": null
          },
          "name": "stderr",
          "output_type": "stream",
          "text": [
            "\u001b[36m(ClientAppActor pid=17219)\u001b[0m \u001b[93mWARNING \u001b[0m:   DEPRECATED FEATURE: `client_fn` now expects a signature `def client_fn(context: Context)`.The provided `client_fn` has signature: {'cid': <Parameter \"cid: str\">}. You can import the `Context` like this: `from flwr.common import Context`\n",
            "\u001b[36m(ClientAppActor pid=17219)\u001b[0m \n",
            "\u001b[36m(ClientAppActor pid=17219)\u001b[0m             This is a deprecated feature. It will be removed\n",
            "\u001b[36m(ClientAppActor pid=17219)\u001b[0m             entirely in future versions of Flower.\n",
            "\u001b[36m(ClientAppActor pid=17219)\u001b[0m         \n"
          ]
        },
        {
          "metadata": {
            "tags": null
          },
          "name": "stdout",
          "output_type": "stream",
          "text": [
            "\u001b[36m(ClientAppActor pid=17220)\u001b[0m training model\n",
            "\u001b[36m(ClientAppActor pid=17222)\u001b[0m training model\n",
            "\u001b[36m(ClientAppActor pid=17219)\u001b[0m training model\n"
          ]
        },
        {
          "metadata": {
            "tags": null
          },
          "name": "stderr",
          "output_type": "stream",
          "text": [
            "\u001b[92mINFO \u001b[0m:      aggregate_fit: received 3 results and 0 failures\n",
            "\u001b[92mINFO \u001b[0m:      fit progress: (2, 0.0, {'loss': 0.0, 'accuracy': 0.0}, 166.79967224099983)\n",
            "\u001b[92mINFO \u001b[0m:      configure_evaluate: strategy sampled 3 clients (out of 6)\n"
          ]
        },
        {
          "metadata": {
            "tags": null
          },
          "name": "stdout",
          "output_type": "stream",
          "text": [
            "\u001b[36m(ClientAppActor pid=17219)\u001b[0m Entered client 0 function\n",
            "\u001b[36m(ClientAppActor pid=17219)\u001b[0m model created\n",
            "\u001b[36m(ClientAppActor pid=17219)\u001b[0m Entered client 0 function\n"
          ]
        },
        {
          "metadata": {
            "tags": null
          },
          "name": "stderr",
          "output_type": "stream",
          "text": [
            "\u001b[36m(ClientAppActor pid=17219)\u001b[0m \u001b[93mWARNING \u001b[0m:   DEPRECATED FEATURE: `client_fn` now expects a signature `def client_fn(context: Context)`.The provided `client_fn` has signature: {'cid': <Parameter \"cid: str\">}. You can import the `Context` like this: `from flwr.common import Context`\n",
            "\u001b[36m(ClientAppActor pid=17219)\u001b[0m \n",
            "\u001b[36m(ClientAppActor pid=17219)\u001b[0m             This is a deprecated feature. It will be removed\n",
            "\u001b[36m(ClientAppActor pid=17219)\u001b[0m             entirely in future versions of Flower.\n",
            "\u001b[36m(ClientAppActor pid=17219)\u001b[0m         \n"
          ]
        },
        {
          "metadata": {
            "tags": null
          },
          "name": "stdout",
          "output_type": "stream",
          "text": [
            "\u001b[36m(ClientAppActor pid=17222)\u001b[0m Entered client 4 function\n",
            "\u001b[36m(ClientAppActor pid=17222)\u001b[0m model created\n",
            "\u001b[36m(ClientAppActor pid=17222)\u001b[0m Entered client 4 function\n"
          ]
        },
        {
          "metadata": {
            "tags": null
          },
          "name": "stderr",
          "output_type": "stream",
          "text": [
            "\u001b[36m(ClientAppActor pid=17222)\u001b[0m \u001b[93mWARNING \u001b[0m:   DEPRECATED FEATURE: `client_fn` now expects a signature `def client_fn(context: Context)`.The provided `client_fn` has signature: {'cid': <Parameter \"cid: str\">}. You can import the `Context` like this: `from flwr.common import Context`\n",
            "\u001b[36m(ClientAppActor pid=17222)\u001b[0m \n",
            "\u001b[36m(ClientAppActor pid=17222)\u001b[0m             This is a deprecated feature. It will be removed\n",
            "\u001b[36m(ClientAppActor pid=17222)\u001b[0m             entirely in future versions of Flower.\n",
            "\u001b[36m(ClientAppActor pid=17222)\u001b[0m         \n"
          ]
        },
        {
          "metadata": {
            "tags": null
          },
          "name": "stdout",
          "output_type": "stream",
          "text": [
            "\u001b[36m(ClientAppActor pid=17220)\u001b[0m Entered client 5 function\n",
            "\u001b[36m(ClientAppActor pid=17220)\u001b[0m model created\n",
            "\u001b[36m(ClientAppActor pid=17220)\u001b[0m Entered client 5 function\n"
          ]
        },
        {
          "metadata": {
            "tags": null
          },
          "name": "stderr",
          "output_type": "stream",
          "text": [
            "\u001b[36m(ClientAppActor pid=17220)\u001b[0m \u001b[93mWARNING \u001b[0m:   DEPRECATED FEATURE: `client_fn` now expects a signature `def client_fn(context: Context)`.The provided `client_fn` has signature: {'cid': <Parameter \"cid: str\">}. You can import the `Context` like this: `from flwr.common import Context`\n",
            "\u001b[36m(ClientAppActor pid=17220)\u001b[0m \n",
            "\u001b[36m(ClientAppActor pid=17220)\u001b[0m             This is a deprecated feature. It will be removed\n",
            "\u001b[36m(ClientAppActor pid=17220)\u001b[0m             entirely in future versions of Flower.\n",
            "\u001b[36m(ClientAppActor pid=17220)\u001b[0m         \n"
          ]
        },
        {
          "metadata": {
            "tags": null
          },
          "name": "stdout",
          "output_type": "stream",
          "text": [
            "\u001b[36m(ClientAppActor pid=17220)\u001b[0m Evaluating model for client 5\n",
            "\u001b[36m(ClientAppActor pid=17220)\u001b[0m Loss: 0.008085327146446553\n",
            "\u001b[36m(ClientAppActor pid=17220)\u001b[0m Accuracy: 99.97756795888819\n",
            "\u001b[36m(ClientAppActor pid=17222)\u001b[0m Evaluating model for client 4\n",
            "\u001b[36m(ClientAppActor pid=17222)\u001b[0m Loss: 0.01102544610879067\n",
            "\u001b[36m(ClientAppActor pid=17222)\u001b[0m Accuracy: 99.96941085302934\n"
          ]
        },
        {
          "metadata": {
            "tags": null
          },
          "name": "stderr",
          "output_type": "stream",
          "text": [
            "\u001b[92mINFO \u001b[0m:      aggregate_evaluate: received 3 results and 0 failures\n",
            "\u001b[92mINFO \u001b[0m:      \n",
            "\u001b[92mINFO \u001b[0m:      [ROUND 3]\n",
            "\u001b[92mINFO \u001b[0m:      configure_fit: strategy sampled 3 clients (out of 6)\n"
          ]
        },
        {
          "metadata": {
            "tags": null
          },
          "name": "stdout",
          "output_type": "stream",
          "text": [
            "\u001b[36m(ClientAppActor pid=17219)\u001b[0m Evaluating model for client 0\n",
            "\u001b[36m(ClientAppActor pid=17219)\u001b[0m Loss: 0.0117604758493767\n",
            "\u001b[36m(ClientAppActor pid=17219)\u001b[0m Accuracy: 99.96737157656463\n",
            "\u001b[36m(ClientAppActor pid=17219)\u001b[0m Entered client 5 function\n",
            "\u001b[36m(ClientAppActor pid=17219)\u001b[0m model created\n",
            "\u001b[36m(ClientAppActor pid=17219)\u001b[0m Entered client 5 function\n"
          ]
        },
        {
          "metadata": {
            "tags": null
          },
          "name": "stderr",
          "output_type": "stream",
          "text": [
            "\u001b[36m(ClientAppActor pid=17219)\u001b[0m \u001b[93mWARNING \u001b[0m:   DEPRECATED FEATURE: `client_fn` now expects a signature `def client_fn(context: Context)`.The provided `client_fn` has signature: {'cid': <Parameter \"cid: str\">}. You can import the `Context` like this: `from flwr.common import Context`\n",
            "\u001b[36m(ClientAppActor pid=17219)\u001b[0m \n",
            "\u001b[36m(ClientAppActor pid=17219)\u001b[0m             This is a deprecated feature. It will be removed\n",
            "\u001b[36m(ClientAppActor pid=17219)\u001b[0m             entirely in future versions of Flower.\n",
            "\u001b[36m(ClientAppActor pid=17219)\u001b[0m         \n"
          ]
        },
        {
          "metadata": {
            "tags": null
          },
          "name": "stdout",
          "output_type": "stream",
          "text": [
            "\u001b[36m(ClientAppActor pid=17222)\u001b[0m Entered client 2 function\n",
            "\u001b[36m(ClientAppActor pid=17222)\u001b[0m model created\n",
            "\u001b[36m(ClientAppActor pid=17222)\u001b[0m Entered client 2 function\n",
            "\u001b[36m(ClientAppActor pid=17220)\u001b[0m Entered client 1 function\n",
            "\u001b[36m(ClientAppActor pid=17220)\u001b[0m model created\n",
            "\u001b[36m(ClientAppActor pid=17220)\u001b[0m Entered client 1 function\n"
          ]
        },
        {
          "metadata": {
            "tags": null
          },
          "name": "stderr",
          "output_type": "stream",
          "text": [
            "\u001b[36m(ClientAppActor pid=17222)\u001b[0m \u001b[93mWARNING \u001b[0m:   DEPRECATED FEATURE: `client_fn` now expects a signature `def client_fn(context: Context)`.The provided `client_fn` has signature: {'cid': <Parameter \"cid: str\">}. You can import the `Context` like this: `from flwr.common import Context`\n",
            "\u001b[36m(ClientAppActor pid=17222)\u001b[0m \n",
            "\u001b[36m(ClientAppActor pid=17222)\u001b[0m             This is a deprecated feature. It will be removed\n",
            "\u001b[36m(ClientAppActor pid=17222)\u001b[0m             entirely in future versions of Flower.\n",
            "\u001b[36m(ClientAppActor pid=17222)\u001b[0m         \n",
            "\u001b[36m(ClientAppActor pid=17220)\u001b[0m \u001b[93mWARNING \u001b[0m:   DEPRECATED FEATURE: `client_fn` now expects a signature `def client_fn(context: Context)`.The provided `client_fn` has signature: {'cid': <Parameter \"cid: str\">}. You can import the `Context` like this: `from flwr.common import Context`\n",
            "\u001b[36m(ClientAppActor pid=17220)\u001b[0m \n",
            "\u001b[36m(ClientAppActor pid=17220)\u001b[0m             This is a deprecated feature. It will be removed\n",
            "\u001b[36m(ClientAppActor pid=17220)\u001b[0m             entirely in future versions of Flower.\n",
            "\u001b[36m(ClientAppActor pid=17220)\u001b[0m         \n"
          ]
        },
        {
          "metadata": {
            "tags": null
          },
          "name": "stdout",
          "output_type": "stream",
          "text": [
            "\u001b[36m(ClientAppActor pid=17220)\u001b[0m training model\n",
            "\u001b[36m(ClientAppActor pid=17219)\u001b[0m training model\n",
            "\u001b[36m(ClientAppActor pid=17222)\u001b[0m training model\n"
          ]
        },
        {
          "metadata": {
            "tags": null
          },
          "name": "stderr",
          "output_type": "stream",
          "text": [
            "\u001b[92mINFO \u001b[0m:      aggregate_fit: received 3 results and 0 failures\n",
            "\u001b[92mINFO \u001b[0m:      fit progress: (3, 0.0, {'loss': 0.0, 'accuracy': 0.0}, 268.23986786099977)\n",
            "\u001b[92mINFO \u001b[0m:      configure_evaluate: strategy sampled 3 clients (out of 6)\n",
            "\u001b[36m(ClientAppActor pid=17219)\u001b[0m \u001b[93mWARNING \u001b[0m:   DEPRECATED FEATURE: `client_fn` now expects a signature `def client_fn(context: Context)`.The provided `client_fn` has signature: {'cid': <Parameter \"cid: str\">}. You can import the `Context` like this: `from flwr.common import Context`\n",
            "\u001b[36m(ClientAppActor pid=17219)\u001b[0m \n",
            "\u001b[36m(ClientAppActor pid=17219)\u001b[0m             This is a deprecated feature. It will be removed\n",
            "\u001b[36m(ClientAppActor pid=17219)\u001b[0m             entirely in future versions of Flower.\n",
            "\u001b[36m(ClientAppActor pid=17219)\u001b[0m         \n",
            "\u001b[36m(ClientAppActor pid=17222)\u001b[0m \u001b[93mWARNING \u001b[0m:   DEPRECATED FEATURE: `client_fn` now expects a signature `def client_fn(context: Context)`.The provided `client_fn` has signature: {'cid': <Parameter \"cid: str\">}. You can import the `Context` like this: `from flwr.common import Context`\n",
            "\u001b[36m(ClientAppActor pid=17222)\u001b[0m \n",
            "\u001b[36m(ClientAppActor pid=17222)\u001b[0m             This is a deprecated feature. It will be removed\n",
            "\u001b[36m(ClientAppActor pid=17222)\u001b[0m             entirely in future versions of Flower.\n",
            "\u001b[36m(ClientAppActor pid=17222)\u001b[0m         \n"
          ]
        },
        {
          "metadata": {
            "tags": null
          },
          "name": "stdout",
          "output_type": "stream",
          "text": [
            "\u001b[36m(ClientAppActor pid=17219)\u001b[0m Entered client 0 function\n",
            "\u001b[36m(ClientAppActor pid=17219)\u001b[0m model created\n",
            "\u001b[36m(ClientAppActor pid=17219)\u001b[0m Entered client 0 function\n",
            "\u001b[36m(ClientAppActor pid=17222)\u001b[0m Entered client 2 function\n",
            "\u001b[36m(ClientAppActor pid=17222)\u001b[0m model created\n",
            "\u001b[36m(ClientAppActor pid=17222)\u001b[0m Entered client 2 function\n",
            "\u001b[36m(ClientAppActor pid=17220)\u001b[0m Entered client 5 function\n",
            "\u001b[36m(ClientAppActor pid=17220)\u001b[0m model created\n",
            "\u001b[36m(ClientAppActor pid=17220)\u001b[0m Entered client 5 function\n"
          ]
        },
        {
          "metadata": {
            "tags": null
          },
          "name": "stderr",
          "output_type": "stream",
          "text": [
            "\u001b[36m(ClientAppActor pid=17220)\u001b[0m \u001b[93mWARNING \u001b[0m:   DEPRECATED FEATURE: `client_fn` now expects a signature `def client_fn(context: Context)`.The provided `client_fn` has signature: {'cid': <Parameter \"cid: str\">}. You can import the `Context` like this: `from flwr.common import Context`\n",
            "\u001b[36m(ClientAppActor pid=17220)\u001b[0m \n",
            "\u001b[36m(ClientAppActor pid=17220)\u001b[0m             This is a deprecated feature. It will be removed\n",
            "\u001b[36m(ClientAppActor pid=17220)\u001b[0m             entirely in future versions of Flower.\n",
            "\u001b[36m(ClientAppActor pid=17220)\u001b[0m         \n"
          ]
        },
        {
          "metadata": {
            "tags": null
          },
          "name": "stdout",
          "output_type": "stream",
          "text": [
            "\u001b[36m(ClientAppActor pid=17220)\u001b[0m Evaluating model for client 5\n",
            "\u001b[36m(ClientAppActor pid=17220)\u001b[0m Loss: 0.008085327146446553\n",
            "\u001b[36m(ClientAppActor pid=17220)\u001b[0m Accuracy: 99.97756795888819\n",
            "\u001b[36m(ClientAppActor pid=17222)\u001b[0m Evaluating model for client 2\n",
            "\u001b[36m(ClientAppActor pid=17222)\u001b[0m Loss: 0.010290416368204644\n",
            "\u001b[36m(ClientAppActor pid=17222)\u001b[0m Accuracy: 99.97145012949406\n"
          ]
        },
        {
          "metadata": {
            "tags": null
          },
          "name": "stderr",
          "output_type": "stream",
          "text": [
            "\u001b[92mINFO \u001b[0m:      aggregate_evaluate: received 3 results and 0 failures\n",
            "\u001b[92mINFO \u001b[0m:      \n",
            "\u001b[92mINFO \u001b[0m:      [ROUND 4]\n",
            "\u001b[92mINFO \u001b[0m:      configure_fit: strategy sampled 3 clients (out of 6)\n"
          ]
        },
        {
          "metadata": {
            "tags": null
          },
          "name": "stdout",
          "output_type": "stream",
          "text": [
            "\u001b[36m(ClientAppActor pid=17219)\u001b[0m Evaluating model for client 0\n"
          ]
        },
        {
          "metadata": {
            "tags": null
          },
          "name": "stderr",
          "output_type": "stream",
          "text": [
            "\u001b[36m(ClientAppActor pid=17219)\u001b[0m \u001b[93mWARNING \u001b[0m:   DEPRECATED FEATURE: `client_fn` now expects a signature `def client_fn(context: Context)`.The provided `client_fn` has signature: {'cid': <Parameter \"cid: str\">}. You can import the `Context` like this: `from flwr.common import Context`\n",
            "\u001b[36m(ClientAppActor pid=17219)\u001b[0m \n",
            "\u001b[36m(ClientAppActor pid=17219)\u001b[0m             This is a deprecated feature. It will be removed\n",
            "\u001b[36m(ClientAppActor pid=17219)\u001b[0m             entirely in future versions of Flower.\n",
            "\u001b[36m(ClientAppActor pid=17219)\u001b[0m         \n",
            "\u001b[36m(ClientAppActor pid=17222)\u001b[0m \u001b[93mWARNING \u001b[0m:   DEPRECATED FEATURE: `client_fn` now expects a signature `def client_fn(context: Context)`.The provided `client_fn` has signature: {'cid': <Parameter \"cid: str\">}. You can import the `Context` like this: `from flwr.common import Context`\n",
            "\u001b[36m(ClientAppActor pid=17222)\u001b[0m \n",
            "\u001b[36m(ClientAppActor pid=17222)\u001b[0m             This is a deprecated feature. It will be removed\n",
            "\u001b[36m(ClientAppActor pid=17222)\u001b[0m             entirely in future versions of Flower.\n",
            "\u001b[36m(ClientAppActor pid=17222)\u001b[0m         \n"
          ]
        },
        {
          "metadata": {
            "tags": null
          },
          "name": "stdout",
          "output_type": "stream",
          "text": [
            "\u001b[36m(ClientAppActor pid=17219)\u001b[0m Loss: 0.013965565071134792\n",
            "\u001b[36m(ClientAppActor pid=17219)\u001b[0m Accuracy: 99.9612537471705\n",
            "\u001b[36m(ClientAppActor pid=17219)\u001b[0m Entered client 3 function\n",
            "\u001b[36m(ClientAppActor pid=17219)\u001b[0m model created\n",
            "\u001b[36m(ClientAppActor pid=17219)\u001b[0m Entered client 3 function\n",
            "\u001b[36m(ClientAppActor pid=17222)\u001b[0m Entered client 0 function\n",
            "\u001b[36m(ClientAppActor pid=17222)\u001b[0m model created\n",
            "\u001b[36m(ClientAppActor pid=17222)\u001b[0m Entered client 0 function\n"
          ]
        },
        {
          "metadata": {
            "tags": null
          },
          "name": "stderr",
          "output_type": "stream",
          "text": [
            "\u001b[36m(ClientAppActor pid=17220)\u001b[0m \u001b[93mWARNING \u001b[0m:   DEPRECATED FEATURE: `client_fn` now expects a signature `def client_fn(context: Context)`.The provided `client_fn` has signature: {'cid': <Parameter \"cid: str\">}. You can import the `Context` like this: `from flwr.common import Context`\n",
            "\u001b[36m(ClientAppActor pid=17220)\u001b[0m \n",
            "\u001b[36m(ClientAppActor pid=17220)\u001b[0m             This is a deprecated feature. It will be removed\n",
            "\u001b[36m(ClientAppActor pid=17220)\u001b[0m             entirely in future versions of Flower.\n",
            "\u001b[36m(ClientAppActor pid=17220)\u001b[0m         \n"
          ]
        },
        {
          "metadata": {
            "tags": null
          },
          "name": "stdout",
          "output_type": "stream",
          "text": [
            "\u001b[36m(ClientAppActor pid=17220)\u001b[0m Entered client 2 function\n",
            "\u001b[36m(ClientAppActor pid=17220)\u001b[0m model created\n",
            "\u001b[36m(ClientAppActor pid=17220)\u001b[0m Entered client 2 function\n",
            "\u001b[36m(ClientAppActor pid=17219)\u001b[0m training model\n",
            "\u001b[36m(ClientAppActor pid=17220)\u001b[0m training model\n",
            "\u001b[36m(ClientAppActor pid=17222)\u001b[0m training model\n"
          ]
        },
        {
          "metadata": {
            "tags": null
          },
          "name": "stderr",
          "output_type": "stream",
          "text": [
            "\u001b[92mINFO \u001b[0m:      aggregate_fit: received 3 results and 0 failures\n",
            "\u001b[92mINFO \u001b[0m:      fit progress: (4, 0.0, {'loss': 0.0, 'accuracy': 0.0}, 374.02665414800003)\n",
            "\u001b[92mINFO \u001b[0m:      configure_evaluate: strategy sampled 3 clients (out of 6)\n",
            "\u001b[36m(ClientAppActor pid=17222)\u001b[0m \u001b[93mWARNING \u001b[0m:   DEPRECATED FEATURE: `client_fn` now expects a signature `def client_fn(context: Context)`.The provided `client_fn` has signature: {'cid': <Parameter \"cid: str\">}. You can import the `Context` like this: `from flwr.common import Context`\n",
            "\u001b[36m(ClientAppActor pid=17222)\u001b[0m \n",
            "\u001b[36m(ClientAppActor pid=17222)\u001b[0m             This is a deprecated feature. It will be removed\n",
            "\u001b[36m(ClientAppActor pid=17222)\u001b[0m             entirely in future versions of Flower.\n",
            "\u001b[36m(ClientAppActor pid=17222)\u001b[0m         \n"
          ]
        },
        {
          "metadata": {
            "tags": null
          },
          "name": "stdout",
          "output_type": "stream",
          "text": [
            "\u001b[36m(ClientAppActor pid=17222)\u001b[0m Entered client 4 function\n",
            "\u001b[36m(ClientAppActor pid=17222)\u001b[0m model created\n",
            "\u001b[36m(ClientAppActor pid=17222)\u001b[0m Entered client 4 function\n",
            "\u001b[36m(ClientAppActor pid=17220)\u001b[0m Entered client 3 function\n",
            "\u001b[36m(ClientAppActor pid=17220)\u001b[0m model created\n",
            "\u001b[36m(ClientAppActor pid=17220)\u001b[0m Entered client 3 function\n"
          ]
        },
        {
          "metadata": {
            "tags": null
          },
          "name": "stderr",
          "output_type": "stream",
          "text": [
            "\u001b[36m(ClientAppActor pid=17220)\u001b[0m \u001b[93mWARNING \u001b[0m:   DEPRECATED FEATURE: `client_fn` now expects a signature `def client_fn(context: Context)`.The provided `client_fn` has signature: {'cid': <Parameter \"cid: str\">}. You can import the `Context` like this: `from flwr.common import Context`\n",
            "\u001b[36m(ClientAppActor pid=17220)\u001b[0m \n",
            "\u001b[36m(ClientAppActor pid=17220)\u001b[0m             This is a deprecated feature. It will be removed\n",
            "\u001b[36m(ClientAppActor pid=17220)\u001b[0m             entirely in future versions of Flower.\n",
            "\u001b[36m(ClientAppActor pid=17220)\u001b[0m         \n",
            "\u001b[36m(ClientAppActor pid=17219)\u001b[0m \u001b[93mWARNING \u001b[0m:   DEPRECATED FEATURE: `client_fn` now expects a signature `def client_fn(context: Context)`.The provided `client_fn` has signature: {'cid': <Parameter \"cid: str\">}. You can import the `Context` like this: `from flwr.common import Context`\n",
            "\u001b[36m(ClientAppActor pid=17219)\u001b[0m \n",
            "\u001b[36m(ClientAppActor pid=17219)\u001b[0m             This is a deprecated feature. It will be removed\n",
            "\u001b[36m(ClientAppActor pid=17219)\u001b[0m             entirely in future versions of Flower.\n",
            "\u001b[36m(ClientAppActor pid=17219)\u001b[0m         \n"
          ]
        },
        {
          "metadata": {
            "tags": null
          },
          "name": "stdout",
          "output_type": "stream",
          "text": [
            "\u001b[36m(ClientAppActor pid=17219)\u001b[0m Entered client 2 function\n",
            "\u001b[36m(ClientAppActor pid=17219)\u001b[0m model created\n",
            "\u001b[36m(ClientAppActor pid=17219)\u001b[0m Entered client 2 function\n",
            "\u001b[36m(ClientAppActor pid=17220)\u001b[0m Evaluating model for client 3\n",
            "\u001b[36m(ClientAppActor pid=17220)\u001b[0m Loss: 0.01617065429289288\n",
            "\u001b[36m(ClientAppActor pid=17220)\u001b[0m Accuracy: 99.95513591777637\n",
            "\u001b[36m(ClientAppActor pid=17222)\u001b[0m Evaluating model for client 4\n",
            "\u001b[36m(ClientAppActor pid=17222)\u001b[0m Loss: 0.01102544610879067\n",
            "\u001b[36m(ClientAppActor pid=17222)\u001b[0m Accuracy: 99.96941085302934\n",
            "\u001b[36m(ClientAppActor pid=17219)\u001b[0m Evaluating model for client 2\n"
          ]
        },
        {
          "metadata": {
            "tags": null
          },
          "name": "stderr",
          "output_type": "stream",
          "text": [
            "\u001b[92mINFO \u001b[0m:      aggregate_evaluate: received 3 results and 0 failures\n",
            "\u001b[92mINFO \u001b[0m:      \n",
            "\u001b[92mINFO \u001b[0m:      [ROUND 5]\n",
            "\u001b[92mINFO \u001b[0m:      configure_fit: strategy sampled 3 clients (out of 6)\n"
          ]
        },
        {
          "metadata": {
            "tags": null
          },
          "name": "stdout",
          "output_type": "stream",
          "text": [
            "\u001b[36m(ClientAppActor pid=17219)\u001b[0m Loss: 0.006615267665274492\n",
            "\u001b[36m(ClientAppActor pid=17219)\u001b[0m Accuracy: 99.98164651181762\n",
            "\u001b[36m(ClientAppActor pid=17219)\u001b[0m Entered client 0 function\n",
            "\u001b[36m(ClientAppActor pid=17219)\u001b[0m model created\n",
            "\u001b[36m(ClientAppActor pid=17219)\u001b[0m Entered client 0 function\n",
            "\u001b[36m(ClientAppActor pid=17220)\u001b[0m Entered client 4 function\n",
            "\u001b[36m(ClientAppActor pid=17220)\u001b[0m model created\n",
            "\u001b[36m(ClientAppActor pid=17220)\u001b[0m Entered client 4 function\n",
            "\u001b[36m(ClientAppActor pid=17222)\u001b[0m Entered client 5 function\n",
            "\u001b[36m(ClientAppActor pid=17222)\u001b[0m model created\n",
            "\u001b[36m(ClientAppActor pid=17222)\u001b[0m Entered client 5 function\n"
          ]
        },
        {
          "metadata": {
            "tags": null
          },
          "name": "stderr",
          "output_type": "stream",
          "text": [
            "\u001b[36m(ClientAppActor pid=17219)\u001b[0m \u001b[93mWARNING \u001b[0m:   DEPRECATED FEATURE: `client_fn` now expects a signature `def client_fn(context: Context)`.The provided `client_fn` has signature: {'cid': <Parameter \"cid: str\">}. You can import the `Context` like this: `from flwr.common import Context`\n",
            "\u001b[36m(ClientAppActor pid=17219)\u001b[0m \n",
            "\u001b[36m(ClientAppActor pid=17219)\u001b[0m             This is a deprecated feature. It will be removed\n",
            "\u001b[36m(ClientAppActor pid=17219)\u001b[0m             entirely in future versions of Flower.\n",
            "\u001b[36m(ClientAppActor pid=17219)\u001b[0m         \n",
            "\u001b[36m(ClientAppActor pid=17220)\u001b[0m \u001b[93mWARNING \u001b[0m:   DEPRECATED FEATURE: `client_fn` now expects a signature `def client_fn(context: Context)`.The provided `client_fn` has signature: {'cid': <Parameter \"cid: str\">}. You can import the `Context` like this: `from flwr.common import Context`\n",
            "\u001b[36m(ClientAppActor pid=17220)\u001b[0m \n",
            "\u001b[36m(ClientAppActor pid=17220)\u001b[0m             This is a deprecated feature. It will be removed\n",
            "\u001b[36m(ClientAppActor pid=17220)\u001b[0m             entirely in future versions of Flower.\n",
            "\u001b[36m(ClientAppActor pid=17220)\u001b[0m         \n",
            "\u001b[36m(ClientAppActor pid=17222)\u001b[0m \u001b[93mWARNING \u001b[0m:   DEPRECATED FEATURE: `client_fn` now expects a signature `def client_fn(context: Context)`.The provided `client_fn` has signature: {'cid': <Parameter \"cid: str\">}. You can import the `Context` like this: `from flwr.common import Context`\n",
            "\u001b[36m(ClientAppActor pid=17222)\u001b[0m \n",
            "\u001b[36m(ClientAppActor pid=17222)\u001b[0m             This is a deprecated feature. It will be removed\n",
            "\u001b[36m(ClientAppActor pid=17222)\u001b[0m             entirely in future versions of Flower.\n",
            "\u001b[36m(ClientAppActor pid=17222)\u001b[0m         \n"
          ]
        },
        {
          "metadata": {
            "tags": null
          },
          "name": "stdout",
          "output_type": "stream",
          "text": [
            "\u001b[36m(ClientAppActor pid=17222)\u001b[0m training model\n",
            "\u001b[36m(ClientAppActor pid=17220)\u001b[0m training model\n",
            "\u001b[36m(ClientAppActor pid=17219)\u001b[0m training model\n"
          ]
        },
        {
          "metadata": {
            "tags": null
          },
          "name": "stderr",
          "output_type": "stream",
          "text": [
            "\u001b[92mINFO \u001b[0m:      aggregate_fit: received 3 results and 0 failures\n"
          ]
        },
        {
          "metadata": {
            "tags": null
          },
          "name": "stdout",
          "output_type": "stream",
          "text": [
            "Classification Report:\n",
            "              precision    recall  f1-score   support\n",
            "\n",
            "           0       1.00      1.00      1.00     41092\n",
            "           1       1.00      1.00      1.00    547349\n",
            "\n",
            "    accuracy                           1.00    588441\n",
            "   macro avg       1.00      1.00      1.00    588441\n",
            "weighted avg       1.00      1.00      1.00    588441\n",
            "\n",
            "Confusion Matrix:\n",
            "[[ 40997     95]\n",
            " [   114 547235]]\n"
          ]
        },
        {
          "data": {
            "image/png": "[encoded data removed]",
            "text/plain": [
              "<Figure size 640x480 with 1 Axes>"
            ]
          },
          "metadata": {},
          "output_type": "display_data"
        },
        {
          "metadata": {
            "tags": null
          },
          "name": "stderr",
          "output_type": "stream",
          "text": [
            "\u001b[92mINFO \u001b[0m:      fit progress: (5, 0.0, {'accuracy': 99.96448242049755, 'loss': 0.0, 'report': '              precision    recall  f1-score   support\\n\\n           0       1.00      1.00      1.00     41092\\n           1       1.00      1.00      1.00    547349\\n\\n    accuracy                           1.00    588441\\n   macro avg       1.00      1.00      1.00    588441\\nweighted avg       1.00      1.00      1.00    588441\\n', 'confusion_matrix': array([[ 40997,     95],\n",
            "       [   114, 547235]]), 'roc_auc': 0.9998582305718723}, 487.4146278999997)\n",
            "\u001b[92mINFO \u001b[0m:      configure_evaluate: strategy sampled 3 clients (out of 6)\n",
            "\u001b[36m(ClientAppActor pid=17219)\u001b[0m \u001b[93mWARNING \u001b[0m:   DEPRECATED FEATURE: `client_fn` now expects a signature `def client_fn(context: Context)`.The provided `client_fn` has signature: {'cid': <Parameter \"cid: str\">}. You can import the `Context` like this: `from flwr.common import Context`\n",
            "\u001b[36m(ClientAppActor pid=17219)\u001b[0m \n",
            "\u001b[36m(ClientAppActor pid=17219)\u001b[0m             This is a deprecated feature. It will be removed\n",
            "\u001b[36m(ClientAppActor pid=17219)\u001b[0m             entirely in future versions of Flower.\n",
            "\u001b[36m(ClientAppActor pid=17219)\u001b[0m         \n",
            "\u001b[36m(ClientAppActor pid=17220)\u001b[0m \u001b[93mWARNING \u001b[0m:   DEPRECATED FEATURE: `client_fn` now expects a signature `def client_fn(context: Context)`.The provided `client_fn` has signature: {'cid': <Parameter \"cid: str\">}. You can import the `Context` like this: `from flwr.common import Context`\n",
            "\u001b[36m(ClientAppActor pid=17220)\u001b[0m \n",
            "\u001b[36m(ClientAppActor pid=17220)\u001b[0m             This is a deprecated feature. It will be removed\n",
            "\u001b[36m(ClientAppActor pid=17220)\u001b[0m             entirely in future versions of Flower.\n",
            "\u001b[36m(ClientAppActor pid=17220)\u001b[0m         \n"
          ]
        },
        {
          "metadata": {
            "tags": null
          },
          "name": "stdout",
          "output_type": "stream",
          "text": [
            "\u001b[36m(ClientAppActor pid=17219)\u001b[0m Entered client 1 function\n",
            "\u001b[36m(ClientAppActor pid=17219)\u001b[0m model created\n",
            "\u001b[36m(ClientAppActor pid=17219)\u001b[0m Entered client 1 function\n",
            "\u001b[36m(ClientAppActor pid=17220)\u001b[0m Entered client 0 function\n",
            "\u001b[36m(ClientAppActor pid=17220)\u001b[0m model created\n",
            "\u001b[36m(ClientAppActor pid=17220)\u001b[0m Entered client 0 function\n",
            "\u001b[36m(ClientAppActor pid=17222)\u001b[0m Entered client 3 function\n",
            "\u001b[36m(ClientAppActor pid=17222)\u001b[0m model created\n",
            "\u001b[36m(ClientAppActor pid=17222)\u001b[0m Entered client 3 function\n"
          ]
        },
        {
          "metadata": {
            "tags": null
          },
          "name": "stderr",
          "output_type": "stream",
          "text": [
            "\u001b[36m(ClientAppActor pid=17222)\u001b[0m \u001b[93mWARNING \u001b[0m:   DEPRECATED FEATURE: `client_fn` now expects a signature `def client_fn(context: Context)`.The provided `client_fn` has signature: {'cid': <Parameter \"cid: str\">}. You can import the `Context` like this: `from flwr.common import Context`\n",
            "\u001b[36m(ClientAppActor pid=17222)\u001b[0m \n",
            "\u001b[36m(ClientAppActor pid=17222)\u001b[0m             This is a deprecated feature. It will be removed\n",
            "\u001b[36m(ClientAppActor pid=17222)\u001b[0m             entirely in future versions of Flower.\n",
            "\u001b[36m(ClientAppActor pid=17222)\u001b[0m         \n"
          ]
        },
        {
          "metadata": {
            "tags": null
          },
          "name": "stdout",
          "output_type": "stream",
          "text": [
            "\u001b[36m(ClientAppActor pid=17222)\u001b[0m Evaluating model for client 3\n",
            "\u001b[36m(ClientAppActor pid=17219)\u001b[0m Evaluating model for client 1\n",
            "\u001b[36m(ClientAppActor pid=17222)\u001b[0m Loss: 0.014700594811720822\n",
            "\u001b[36m(ClientAppActor pid=17222)\u001b[0m Accuracy: 99.95921447070579\n",
            "\u001b[36m(ClientAppActor pid=17219)\u001b[0m Loss: 0.013230535330548762\n",
            "\u001b[36m(ClientAppActor pid=17219)\u001b[0m Accuracy: 99.96329302363522\n"
          ]
        },
        {
          "metadata": {
            "tags": null
          },
          "name": "stderr",
          "output_type": "stream",
          "text": [
            "\u001b[92mINFO \u001b[0m:      aggregate_evaluate: received 3 results and 0 failures\n",
            "\u001b[92mINFO \u001b[0m:      \n",
            "\u001b[92mINFO \u001b[0m:      [SUMMARY]\n",
            "\u001b[92mINFO \u001b[0m:      Run finished 5 round(s) in 524.28s\n",
            "\u001b[92mINFO \u001b[0m:      \tHistory (loss, distributed):\n",
            "\u001b[92mINFO \u001b[0m:      \t\tround 1: 0.011270456022319348\n",
            "\u001b[92mINFO \u001b[0m:      \t\tround 2: 0.01029041636820464\n",
            "\u001b[92mINFO \u001b[0m:      \t\tround 3: 0.010780436195261997\n",
            "\u001b[92mINFO \u001b[0m:      \t\tround 4: 0.011270456022319348\n",
            "\u001b[92mINFO \u001b[0m:      \t\tround 5: 0.013965565071134793\n",
            "\u001b[92mINFO \u001b[0m:      \tHistory (loss, centralized):\n",
            "\u001b[92mINFO \u001b[0m:      \t\tround 0: 0.0\n",
            "\u001b[92mINFO \u001b[0m:      \t\tround 1: 0.0\n",
            "\u001b[92mINFO \u001b[0m:      \t\tround 2: 0.0\n",
            "\u001b[92mINFO \u001b[0m:      \t\tround 3: 0.0\n",
            "\u001b[92mINFO \u001b[0m:      \t\tround 4: 0.0\n",
            "\u001b[92mINFO \u001b[0m:      \t\tround 5: 0.0\n",
            "\u001b[92mINFO \u001b[0m:      \tHistory (metrics, centralized):\n",
            "\u001b[92mINFO \u001b[0m:      \t{'accuracy': [(0, 0.0),\n",
            "\u001b[92mINFO \u001b[0m:      \t              (1, 0.0),\n",
            "\u001b[92mINFO \u001b[0m:      \t              (2, 0.0),\n",
            "\u001b[92mINFO \u001b[0m:      \t              (3, 0.0),\n",
            "\u001b[92mINFO \u001b[0m:      \t              (4, 0.0),\n",
            "\u001b[92mINFO \u001b[0m:      \t              (5, 99.96448242049755)],\n",
            "\u001b[92mINFO \u001b[0m:      \t 'confusion_matrix': [(5, array([[ 40997,     95],\n",
            "\u001b[92mINFO \u001b[0m:      \t       [   114, 547235]]))],\n",
            "\u001b[92mINFO \u001b[0m:      \t 'loss': [(0, 0.0), (1, 0.0), (2, 0.0), (3, 0.0), (4, 0.0), (5, 0.0)],\n",
            "\u001b[92mINFO \u001b[0m:      \t 'report': [(5,\n",
            "\u001b[92mINFO \u001b[0m:      \t             '              precision    recall  f1-score   support\\n'\n",
            "\u001b[92mINFO \u001b[0m:      \t             '\\n'\n",
            "\u001b[92mINFO \u001b[0m:      \t             '           0       1.00      1.00      1.00     41092\\n'\n",
            "\u001b[92mINFO \u001b[0m:      \t             '           1       1.00      1.00      1.00    547349\\n'\n",
            "\u001b[92mINFO \u001b[0m:      \t             '\\n'\n",
            "\u001b[92mINFO \u001b[0m:      \t             '    accuracy                           1.00    588441\\n'\n"
          ]
        },
        {
          "metadata": {
            "tags": null
          },
          "name": "stdout",
          "output_type": "stream",
          "text": [
            "\u001b[36m(ClientAppActor pid=17220)\u001b[0m Evaluating model for client 0\n"
          ]
        },
        {
          "metadata": {
            "tags": null
          },
          "name": "stderr",
          "output_type": "stream",
          "text": [
            "\u001b[92mINFO \u001b[0m:      \t             '   macro avg       1.00      1.00      1.00    588441\\n'\n",
            "\u001b[92mINFO \u001b[0m:      \t             'weighted avg       1.00      1.00      1.00    588441\\n')],\n",
            "\u001b[92mINFO \u001b[0m:      \t 'roc_auc': [(5, 0.9998582305718723)]}\n",
            "\u001b[92mINFO \u001b[0m:      \n"
          ]
        },
        {
          "metadata": {
            "tags": null
          },
          "name": "stdout",
          "output_type": "stream",
          "text": [
            "\u001b[36m(ClientAppActor pid=17220)\u001b[0m Loss: 0.013965565071134792\n",
            "\u001b[36m(ClientAppActor pid=17220)\u001b[0m Accuracy: 99.9612537471705\n",
            "Total time taken: 229.6752142906189 seconds\n"
          ]
        }
      ],
      "source": [
        "if __name__ == \"__main__\":\n",
        "    start_server()\n",
        "    total_time = calculate_federated_learning_time(start_time, end_time)\n",
        "    print(\"Total time taken:\", total_time, \"seconds\")"
      ]
    }
  ],
  "metadata": {
    "accelerator": "GPU",
    "colab": {
      "gpuType": "L4",
      "provenance": [],
      "authorship_tag": "ABX9TyOKiRl6axhX/Tet02Ge6nvi"
    },
    "kernelspec": {
      "display_name": "Python 3",
      "name": "python3"
    },
    "language_info": {
      "name": "python"
    }
  },
  "nbformat": 4,
  "nbformat_minor": 0
}
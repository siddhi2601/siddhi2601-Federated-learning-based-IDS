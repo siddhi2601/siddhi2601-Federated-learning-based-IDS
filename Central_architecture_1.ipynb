{
  "nbformat": 4,
  "nbformat_minor": 0,
  "metadata": {
    "colab": {
      "provenance": [],
      "gpuType": "L4",
      "authorship_tag": "ABX9TyOUMLOQ/NYmun4l6Yanumix"
    },
    "kernelspec": {
      "name": "python3",
      "display_name": "Python 3"
    },
    "language_info": {
      "name": "python"
    },
    "accelerator": "GPU"
  },
  "cells": [
    {
      "cell_type": "code",
      "execution_count": 1,
      "metadata": {
        "colab": {
          "base_uri": "https://localhost:8080/"
        },
        "id": "v3XDsLuSSp2i",
        "outputId": "788091a5-8393-4678-858c-e8d73fb857c6"
      },
      "outputs": [
        {
          "output_type": "stream",
          "name": "stdout",
          "text": [
            "Mounted at /content/gdrive\n"
          ]
        }
      ],
      "source": [
        "from google.colab import drive\n",
        "drive.mount('/content/gdrive')\n"
      ]
    },
    {
      "cell_type": "code",
      "source": [
        "import pandas as pd\n",
        "from sklearn.preprocessing import MinMaxScaler, StandardScaler\n",
        "from sklearn.model_selection import StratifiedShuffleSplit\n",
        "from sklearn.linear_model import LogisticRegression\n",
        "from sklearn.svm import LinearSVC\n",
        "from sklearn.ensemble import RandomForestClassifier\n",
        "from sklearn.ensemble import StackingClassifier\n",
        "from sklearn.ensemble import BaggingClassifier\n",
        "from imblearn.over_sampling import SMOTE\n",
        "\n",
        "def split_features_labels(data):\n",
        "  print(\"split_features\")\n",
        "  X = data.drop(columns=['type'])\n",
        "  y = data['type']\n",
        "  return X,y\n",
        "\n",
        "def balance_data(X_train, y_train):\n",
        "    over = SMOTE(sampling_strategy=0.8, random_state=42)\n",
        "    X_res, y_res = over.fit_resample(X_train, y_train)\n",
        "    return X_res, y_res\n",
        "\n",
        "def sampling(X, y):\n",
        "    print(\"Sampling data...\")\n",
        "    sss = StratifiedShuffleSplit(n_splits=1, test_size=0.3, random_state=42)\n",
        "    train_index, test_index = next(sss.split(X, y))\n",
        "    scaler = MinMaxScaler()\n",
        "    X_train, X_test = X.iloc[train_index], X.iloc[test_index]\n",
        "    y_train, y_test = y.iloc[train_index], y.iloc[test_index]\n",
        "    X_train_balanced, y_train_balanced = balance_data(X_train, y_train)\n",
        "    X_train_scaled = scaler.fit_transform(X_train_balanced)\n",
        "    X_test_scaled = scaler.transform(X_test)\n",
        "    return X_train_scaled, X_test_scaled, y_train_balanced, y_test\n",
        "\n",
        "def create_model(X_train, y_train):\n",
        "\n",
        "    #best_svc_params, best_lr_params, best_rf_params = hyperparameter_tuning(X_train, y_train)\n",
        "\n",
        "    estimators = [('SVM model', LinearSVC(random_state=42, max_iter=10000, class_weight='balanced', dual='auto')),\n",
        "                  ('logistic regression', LogisticRegression(random_state=42, class_weight='balanced', max_iter=1000))]\n",
        "\n",
        "    stacking = StackingClassifier(estimators=estimators, final_estimator=RandomForestClassifier())\n",
        "    print(\"model created\")\n",
        "\n",
        "    return stacking"
      ],
      "metadata": {
        "id": "F3DRJ5-uTtg8"
      },
      "execution_count": 3,
      "outputs": []
    },
    {
      "cell_type": "code",
      "source": [
        "from sklearn.model_selection import train_test_split\n",
        "import pandas as pd\n",
        "import numpy as np\n",
        "\n",
        "def load_data(paths):\n",
        "  data = pd.concat([pd.read_csv(path) for path in paths])\n",
        "  return data\n",
        "\n",
        "data = load_data([\n",
        "        '/content/gdrive/MyDrive/N-BaIoT/csv_files/1_cleaned_dataset.csv',\n",
        "        '/content/gdrive/MyDrive/N-BaIoT/csv_files/2_cleaned_dataset.csv',\n",
        "        '/content/gdrive/MyDrive/N-BaIoT/csv_files/3_cleaned_dataset.csv',\n",
        "        '/content/gdrive/MyDrive/N-BaIoT/csv_files/4_cleaned_dataset.csv',\n",
        "        '/content/gdrive/MyDrive/N-BaIoT/csv_files/5_cleaned_dataset.csv',\n",
        "        '/content/gdrive/MyDrive/N-BaIoT/csv_files/6_cleaned_dataset.csv',\n",
        "        '/content/gdrive/MyDrive/N-BaIoT/csv_files/7_cleaned_dataset.csv',\n",
        "        '/content/gdrive/MyDrive/N-BaIoT/csv_files/8_cleaned_dataset.csv',\n",
        "        '/content/gdrive/MyDrive/N-BaIoT/csv_files/9_cleaned_dataset.csv'\n",
        "    ])\n",
        "\n",
        "X , y = split_features_labels(data)\n",
        "X_train, X_test, y_train, y_test = sampling(X, y)\n",
        "\n",
        "\n",
        "\n",
        "\n",
        "\n"
      ],
      "metadata": {
        "colab": {
          "base_uri": "https://localhost:8080/"
        },
        "outputId": "8de48235-d44c-46b5-c4d7-6f8969bd7e6a",
        "id": "TPg0ZCAsWvlS"
      },
      "execution_count": 5,
      "outputs": [
        {
          "output_type": "stream",
          "name": "stdout",
          "text": [
            "split_features\n",
            "Sampling data...\n"
          ]
        }
      ]
    },
    {
      "cell_type": "code",
      "source": [
        "central_model = create_model(X_train, y_train)\n",
        "#central_model.fit(X_train, y_train)\n",
        "\n",
        "#report, cm, roc_auc = evaluate(central_model, X_test, y_test)"
      ],
      "metadata": {
        "colab": {
          "base_uri": "https://localhost:8080/"
        },
        "id": "z5MnbM6VytTY",
        "outputId": "a28e6763-59a6-44bb-8863-673f6d728cbd"
      },
      "execution_count": 6,
      "outputs": [
        {
          "output_type": "stream",
          "name": "stdout",
          "text": [
            "model created\n"
          ]
        }
      ]
    },
    {
      "cell_type": "code",
      "source": [
        "from sklearn.metrics import accuracy_score, classification_report, confusion_matrix, roc_curve, auc\n",
        "import matplotlib.pyplot as plt\n",
        "import numpy as np\n",
        "\n",
        "def evaluate(central_model, X_test, y_test):\n",
        "  y_true =[]\n",
        "  y_pred =[]\n",
        "  y_score = []\n",
        "\n",
        "\n",
        "  y_pred = central_model.predict(X_test)\n",
        "  y_true = y_test\n",
        "  y_score = central_model.predict_proba(X_test)[:, 1]\n",
        "\n",
        "  cm = confusion_matrix(y_true, y_pred)\n",
        "  tn, fp, fn, tp = cm.ravel()\n",
        "\n",
        "  accuracy = (accuracy_score(y_true, y_pred)*100)\n",
        "\n",
        "  report = classification_report(y_true, y_pred)\n",
        "  fpr, tpr, _ = roc_curve(y_true, y_score)\n",
        "  roc_auc = auc(fpr, tpr)\n",
        "\n",
        "\n",
        "  print(\"Classification Report:\\n\", report)\n",
        "  print(\"Confusion Matrix:\\n\", cm)\n",
        "  print(\"ROC AUC: {:2f}\".format(roc_auc))\n",
        "\n",
        "\n",
        "  #plotting curve\n",
        "  plt.figure()\n",
        "  plt.plot(fpr, tpr, color='darkorange', lw=2, label='ROC curve (area = %0.2f)' % roc_auc)\n",
        "  plt.plot([0,1], [0, 1], color='navy', lw=2, linestyle='--')\n",
        "  plt.xlim([0.0, 1.0])\n",
        "  plt.ylim([0.0, 1.05])\n",
        "  plt.xlabel('False Positive Rate')\n",
        "  plt.ylabel('True Positive Rate')\n",
        "  plt.title('Receiver Operating Characteristic')\n",
        "  plt.legend(loc=\"lower right\")\n",
        "  plt.show()\n",
        "\n",
        "  \"\"\"np.save('/content/gdrive/MyDrive/N-BaIoT/central_accuracy.npy',accuracy)\n",
        "  np.save('/content/gdrive/MyDrive/N-BaIoT/central_report.npy',report)\n",
        "  np.save('/content/gdrive/MyDrive/N-BaIoT/central_cm.npy',cm)\n",
        "  np.save('/content/gdrive/MyDrive/N-BaIoT/central_roc_auc.npy',roc_auc)\n",
        "\"\"\"\n",
        "  return report, cm, roc_auc\n",
        "\n",
        "central_model.fit(X_train, y_train)\n",
        "report, cm, roc_auc = evaluate(central_model, X_test, y_test)"
      ],
      "metadata": {
        "id": "jqYz-FSs5t2S",
        "colab": {
          "base_uri": "https://localhost:8080/",
          "height": 715
        },
        "outputId": "721a6a04-72d4-4f52-82b0-1953daa7ae00"
      },
      "execution_count": 7,
      "outputs": [
        {
          "output_type": "stream",
          "name": "stdout",
          "text": [
            "Classification Report:\n",
            "               precision    recall  f1-score   support\n",
            "\n",
            "           0       0.34      1.00      0.51     41221\n",
            "           1       1.00      0.85      0.92    547216\n",
            "\n",
            "    accuracy                           0.86    588437\n",
            "   macro avg       0.67      0.93      0.71    588437\n",
            "weighted avg       0.95      0.86      0.89    588437\n",
            "\n",
            "Confusion Matrix:\n",
            " [[ 41204     17]\n",
            " [ 80519 466697]]\n",
            "ROC AUC: 0.999842\n"
          ]
        },
        {
          "output_type": "display_data",
          "data": {
            "text/plain": [
              "<Figure size 640x480 with 1 Axes>"
            ],
            "image/png": "[encoded data removed]"
          },
          "metadata": {}
        }
      ]
    }
  ]
}